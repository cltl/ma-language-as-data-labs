{
 "cells": [
  {
   "cell_type": "markdown",
   "metadata": {},
   "source": [
    "# Lab1.2: The web as a source of text"
   ]
  },
  {
   "cell_type": "markdown",
   "metadata": {},
   "source": [
    "Copyright: Vrije Universiteit Amsterdam, Faculty of Humanities, CLTL"
   ]
  },
  {
   "cell_type": "markdown",
   "metadata": {},
   "source": [
    "In this notebook, we go address the following aspects for obtaining the actual language text from HTML files:\n",
    "\n",
    "* What is HTML.\n",
    "* How to get the HTML from a web address as a text.\n",
    "* How to process the HTML using BeatifulSoup to the natural langauge text.\n",
    "* How to save the natural langauge text to a file.\n",
    "\n",
    "The WWW consists of web pages that are either created as static HTML or generated dynamically from databases or other formats.\n",
    "\n",
    "HTML stands for Hyper Text Markup Language. It basically tells the browser how to render a web page in a browser so that people can easily access the content.\n",
    "\n",
    "HTML contains more than just the content. It includes the instructions to the browser how to render it. It may also contain other parts such as: Java Script code to run little programs, hyperlinks to other webpages, images, videos, or comments made by the people that created the page.\n"
   ]
  },
  {
   "cell_type": "markdown",
   "metadata": {},
   "source": [
    "## 1. How to get an HTML file from the Web?"
   ]
  },
  {
   "cell_type": "markdown",
   "metadata": {},
   "source": [
    "In order to get the content from a web page, we need to separate the language from the instructions. For this we use two packages *requests* and *BeautifulSoup*. \n",
    "\n",
    "The *requests* package is included in your Python distribution and can be used to post a request to a webaddress to get the page HTML as a response. More precisely, *requests.get(url)* simulates a browser to access the page specified by a *url*. The result is an object from which we can get the text, e.g. \"result.text\" represents the HTML as a text object.\n",
    "\n",
    "We first are going to see how to get the HTML from the web:"
   ]
  },
  {
   "cell_type": "code",
   "execution_count": 9,
   "metadata": {},
   "outputs": [
    {
     "name": "stdout",
     "output_type": "stream",
     "text": [
      "The start of the HTML content:\n",
      "<!DOCTYPE html>\n",
      "<!--[if IE 7]>\n",
      "<html class=\"ie ie7\" lang=\"en-US\" xmlns:fb=\"https://www.facebook.com/2008/fbml\" xmlns:addthis=\"https://www.addthis.com/help/api-spec\" >\n",
      "<![endif]-->\n",
      "<!--[if IE 8]>\n",
      "<html class=\"ie ie8\" lang=\"en-US\" xmlns:fb=\"https://www.facebook.com/2008/fbml\" xmlns:addthis=\"https://www.addthis.com/help/api-spec\" >\n",
      "<![endif]-->\n",
      "<!--[if !(IE 7) & !(IE 8)]><!-->\n",
      "<html lang=\"en-US\" xmlns:fb=\"https://www.facebook.com/2008/fbml\" xmlns:addthis=\"https://www.addthis.com/help/api-spec\" >\n",
      "<!--<![endif]-->\n",
      "<head>\n",
      "<meta charset=\"UTF-8\" />\n",
      "<meta name=\"viewport\" content=\"width=device-width\" />\n",
      "<title>CLTL | the Computational Lexicology &amp; Terminology Lab of Prof. Dr. Piek Vossen</title>\n",
      "<link rel=\"profile\" href=\"http://gmpg.org/xfn/11\" />\n",
      "<link rel=\"pingback\" href=\"http://www.cltl.nl/xmlrpc.php\" />\n",
      "<!--[if lt IE 9]>\n",
      "<script src=\"http://www.cltl.nl/wp-content/themes/twentytwelve/js/html5.js\" type=\"text/javascript\"></script>\n",
      "<![endif]-->\n",
      "<link rel='dns-prefetch' href='//s7.addthis.com' />\n",
      "<link rel='dns-prefetch' href='//cdn.datatables.net' />\n",
      "<link rel='dns-prefetch' href='//cdnjs.cloudflare.com' />\n",
      "<link rel='dns-prefetch' href='//www.google.com' />\n",
      "<link rel='dns-prefetch' href='//wordpress.let.vupr.nl' />\n",
      "<link rel='dns-prefetch' href='//fonts.googleapis.com' />\n",
      "<link rel='dns-prefetch' href='//s.w.org' />\n",
      "<link href='https://fonts.gstatic.com' crossorigin rel='preconnect' />\n",
      "<link rel=\"alternate\" type=\"application/rss+xml\" title=\"CLTL &raquo; Feed\" href=\"http://www.cltl.nl/feed/\" />\n",
      "<link rel=\"alternate\" type=\"application/rss+xml\" title=\"CLTL &raquo; Comments Feed\" href=\"http://www.cltl.nl/comments/feed/\" />\n",
      "<link rel=\"alternate\" type=\"text/calendar\" title=\"CLTL &raquo; iCal Feed\" href=\"http://www.cltl.nl/events/?ical=1\" />\n",
      "\t\t<script type=\"text/javascript\">\n",
      "\t\t\twindow._wpemojiSettings = {\"baseUrl\":\"https:\\/\\/s.w.org\\/images\\/core\\/emoji\\/11\\/72x72\\/\",\"ext\":\".png\",\"svgUrl\":\"https:\\/\\/s.w.org\\/images\\/core\\/emoji\\/11\\/svg\\/\",\"svgExt\":\".svg\",\"source\":{\"concatemoji\":\"http:\\/\\/www.cltl.nl\\/wp-includes\\/js\\/wp-emoji-release.min.js?ver=4.9.12\"}};\n",
      "\t\t\t!function(a,b,c){function d(a,b){var c=String.fromCharCode;l.clearRect(0,0,k.width,k.height),l.fillText(c.apply(this,a),0,0);var d=k.toDataURL();l.clearRect(0,0,k.width,k.height),l.fillText(c.apply(this,b),0,0);var e=k.toDataURL();return d===e}function e(a){var b;if(!l||!l.fillText)return!1;switch(l.textBaseline=\"top\",l.font=\"600 32px Arial\",a){case\"flag\":return!(b=d([55356,56826,55356,56819],[55356,56826,8203,55356,56819]))&&(b=d([55356,57332,56128,56423,56128,56418,56128,56421,56128,56430,56128,56423,56128,56447],[55356,57332,8203,56128,56423,8203,56128,56418,8203,56128,56421,8203,56128,56430,8203,56128,56423,8203,56128,56447]),!b);case\"emoji\":return b=d([55358,56760,9792,65039],[55358,56760,8203,9792,65039]),!b}return!1}function f(a){var c=b.createElement(\"script\");c.src=a,c.defer=c.type=\"text/javascript\",b.getElementsByTagName(\"head\")[0].appendChild(c)}var g,h,i,j,k=b.createElement(\"canvas\"),l=k.get\n",
      "\n",
      "Somewhere in the middle:\n",
      "ts/centres-associations/global-wordnet-association/\">Global WordNet Association</a></li>\n",
      "\t\t<li class=\"page_item page-item-44\"><a href=\"http://www.cltl.nl/projects/centres-associations/dutch-terminology-service-centre/\">Dutch Terminology Service Centre</a></li>\n",
      "\t\t<li class=\"page_item page-item-46\"><a href=\"http://www.cltl.nl/projects/centres-associations/centre-for-digital-humanities-amsterdam/\">Centre for Digital Humanities Amsterdam</a></li>\n",
      "\t</ul>\n",
      "</li>\n",
      "</ul>\n",
      "</li>\n",
      "<li class=\"page_item page-item-93 page_item_has_children\"><a href=\"http://www.cltl.nl/teaching/\">Teaching</a>\n",
      "<ul class='children'>\n",
      "\t<li class=\"page_item page-item-1837 page_item_has_children\"><a href=\"http://www.cltl.nl/teaching/human-language-technology/\">Human Language Technology ▷Track in 2-year Research Master Humanities</a>\n",
      "\t<ul class='children'>\n",
      "\t\t<li class=\"page_item page-item-2238\"><a href=\"http://www.cltl.nl/teaching/human-language-technology/hlt-course-overview-2018-2019/\">Human Language Technology Program 2018-2019</a></li>\n",
      "\t</ul>\n",
      "</li>\n",
      "\t<li class=\"page_item page-item-3499\"><a href=\"http://www.cltl.nl/teaching/text-mining-%e2%96%b7track-in-1-year-master/\">Text Mining ▷Track in 1-year Master Linguistics</a></li>\n",
      "\t<li class=\"page_item page-item-2294\"><a href=\"http://www.cltl.nl/teaching/forensic-linguistics/\">Forensic Linguistics  ▷Track in 2-year Research Master Humanities</a></li>\n",
      "\t<li class=\"page_item page-item-1510\"><a href=\"http://www.cltl.nl/teaching/minor-digital-humanities/\">Minor Digital Humanities</a></li>\n",
      "\t<li class=\"page_item page-item-111 page_item_has_children\"><a href=\"http://www.cltl.nl/teaching/student-assistant-projects/\">Student Assistant Projects</a>\n",
      "\t<ul class='children'>\n",
      "\t\t<li class=\"page_item page-item-2073\"><a href=\"http://www.cltl.nl/teaching/student-assistant-projects/enhancing-quality-assessment-using-perspective-detection/\">Enhancing Quality Assessment Using Perspective Detection</a></li>\n",
      "\t\t<li class=\"page_item page-item-1041\"><a href=\"http://www.cltl.nl/teaching/student-assistant-projects/mining-stereotypes/\">Mining Stereotypes</a></li>\n",
      "\t\t<li class=\"page_item page-item-1039\"><a href=\"http://www.cltl.nl/teaching/student-assistant-projects/modelling-perspectives-in-philosophy/\">Modelling Perspectives in Philosophy</a></li>\n",
      "\t\t<li class=\"page_item page-item-113\"><a href=\"http://www.cltl.nl/teaching/student-assistant-projects/political-discourse-in-the-news/\">Political Discourse in the news</a></li>\n",
      "\t\t<li class=\"page_item page-item-117\"><a href=\"http://www.cltl.nl/teaching/student-assistant-projects/mining-causal-graphs-from-patient-records/\">Mining Causal Graphs from Patient Records</a></li>\n",
      "\t\t<li class=\"page_item page-item-119\"><a href=\"http://www.cltl.nl/teaching/student-assistant-projects/medical-trust-networks/\">Medical Trust Networks</a></li>\n",
      "\t\t<li class=\"page_item page-item-759\"><a href=\"http://www.cltl.nl/teaching/student-assistant-projects/polemics-visualised/\">Polemics Visualised</a></li>\n",
      "\t\t<li class=\"page_item page-item-115\"><a href=\"http://www.cltl.nl/teaching/student-assistant-projects/time-will-tell-a-different-story/\">Time will tell a different story</a></li>\n",
      "\t</ul>\n",
      "</li>\n",
      "\t<li class=\"page_item page-item-2154\"><a href=\"http://www.cltl.nl/teaching/call-for-student-assistants/\">Call for Student Assistants</a></li>\n",
      "\t<li class=\"page_item page-item-3490 page_item_has_children\"><a href=\"http://www.cltl.nl/teaching/student-projects-text-mining/\">Student projects Text Mining</a>\n",
      "\t<ul class='children'>\n",
      "\t\t<li class=\"page_item page-item-3270\"><a href=\"http://www.cltl.nl/teaching/student-projects-text-mining/student-projects-text-mining-2018/\">Student projects Text Mining 2018</a></li>\n",
      "\t\t<li class=\"page_item page-item-1852\"><a href=\"http://www.cltl.nl/teaching/student-projects-text-mining/student-projects-text-mining-2017/\">Student Projects Text Mining 2017</a></li>\n",
      "\t\t<li class=\"page_item page-item-1477\"><a href=\"http://www.cltl.nl/teaching/student-projects-text-mining/tm2016/\">Student Projects Text Mining 2016</a></li>\n",
      "\t</ul>\n",
      "</li>\n",
      "\t<li class=\"page_item page-item-109\"><a href=\"http://www.cltl.nl/teaching/topics-for-ba-and-ma-thesis/\">Thesis topics and Internships</a></li>\n",
      "\t<li class=\"page_item page-item-159\"><a href=\"http://www.cltl.nl/teaching/internships/\">Internships</a></li>\n",
      "\t<li class=\"page_item page-item-1903\"><a href=\"http://www.cltl.nl/teaching/scholarships/\">Scholarships</a></li>\n",
      "\t<li class=\"page_item page-item-3494 page_item_has_children\"><a href=\"http://www.cltl.nl/teaching/meet-greet-companies-students-of-our-language-technology-and-text-mining-master/\">Meet &#038; Greet companies &#038; CLTL-students</a>\n",
      "\t<ul class='children'>\n",
      "\t\t<li class=\"page_item page-item-3571\"><a href=\"http://www.cltl.nl/teaching/meet-greet-companies-students-of-our-language-technology-and-text-mining-master/meet-greet-december-13-2019/\">Meet &#038; Greet December 13, 2019</a></li>\n",
      "\t\t<li class=\"page_item page-item-3561\"><a href=\"http://www.cltl.nl/teaching/meet-greet-companies-students-of-our-language-technology-and-text-mi\n"
     ]
    }
   ],
   "source": [
    "import requests \n",
    "\n",
    "url =\"http://cltl.nl\"\n",
    "result = requests.get(url)\n",
    "html = result.text\n",
    "### Printing the HTML shows the source code of the web page. \n",
    "#We print here only the first 3000 characters\n",
    "print('The start of the HTML content:')\n",
    "print(html[:3000])\n",
    "print()\n",
    "#We print here characters 10:000 till 11:000\n",
    "print('Somewhere in the middle:')\n",
    "print(html[20000:25000])"
   ]
  },
  {
   "cell_type": "markdown",
   "metadata": {},
   "source": [
    "## 2 How to obtain the natural language text from the HTML string"
   ]
  },
  {
   "cell_type": "markdown",
   "metadata": {},
   "source": [
    "As you can see, an HTML page can be a complex data structure with so-called *tags* between \"<\" and \">\". The actual natural language text is scattered throughout the HTML, usually within the so-called *<body>* .... *</body>* tags.\n",
    "\n",
    "Since the HTML can be very complex, having comments and JavaScript code inserted anywhere, we will use the BeautifulSoup package to obtain the actual text.\n",
    "\n",
    "You first must install the package on your local computer through the command line. You can follow the instructions here:\n",
    "\n",
    "https://www.crummy.com/software/BeautifulSoup/bs4/doc/#installing-beautiful-soup\n",
    "\n",
    "After installing the package you can import it and pass the HTML string to process the structure and represent the data elements. Here you can find more documentation on the way the data is structured and can be accessed: \n",
    "\n",
    "https://www.crummy.com/software/BeautifulSoup/bs4/doc/#\n",
    "\n",
    "\n",
    "A nice blog on using BeatifulSoup for further reading is the following:\n",
    "\n",
    "https://towardsdatascience.com/forget-apis-do-python-scraping-using-beautiful-soup-import-data-file-from-the-web-part-2-27af5d666246\n",
    "\n",
    "\n",
    "Basically, BeautifulSoup gives you a *soup* objects through which you can call various functions. We call here now the *prettify()* function to print the above a little nicer.\n"
   ]
  },
  {
   "cell_type": "code",
   "execution_count": 8,
   "metadata": {},
   "outputs": [
    {
     "name": "stdout",
     "output_type": "stream",
     "text": [
      "The start of the HTML content:\n",
      "<!DOCTYPE html>\n",
      "<!--[if IE 7]>\n",
      "<html class=\"ie ie7\" lang=\"en-US\" xmlns:fb=\"https://www.facebook.com/2008/fbml\" xmlns:addthis=\"https://www.addthis.com/help/api-spec\" >\n",
      "<![endif]-->\n",
      "<!--[if IE 8]>\n",
      "<html class=\"ie ie8\" lang=\"en-US\" xmlns:fb=\"https://www.facebook.com/2008/fbml\" xmlns:addthis=\"https://www.addthis.com/help/api-spec\" >\n",
      "<![endif]-->\n",
      "<!--[if !(IE 7) & !(IE 8)]><!-->\n",
      "<html lang=\"en-US\" xmlns:addthis=\"https://www.addthis.com/help/api-spec\" xmlns:fb=\"https://www.facebook.com/2008/fbml\">\n",
      " <!--<![endif]-->\n",
      " <head>\n",
      "  <meta charset=\"utf-8\"/>\n",
      "  <meta content=\"width=device-width\" name=\"viewport\"/>\n",
      "  <title>\n",
      "   CLTL | the Computational Lexicology &amp; Terminology Lab of Prof. Dr. Piek Vossen\n",
      "  </title>\n",
      "  <link href=\"http://gmpg.org/xfn/11\" rel=\"profile\"/>\n",
      "  <link href=\"http://www.cltl.nl/xmlrpc.php\" rel=\"pingback\"/>\n",
      "  <!--[if lt IE 9]>\n",
      "<script src=\"http://www.cltl.nl/wp-content/themes/twentytwelve/js/html5.js\" type=\"text/javascript\"></script>\n",
      "<![endif]-->\n",
      "  <link href=\"//s7.addthis.com\" rel=\"dns-prefetch\"/>\n",
      "  <link href=\"//cdn.datatables.net\" rel=\"dns-prefetch\"/>\n",
      "  <link href=\"//cdnjs.cloudflare.com\" rel=\"dns-prefetch\"/>\n",
      "  <link href=\"//www.google.com\" rel=\"dns-prefetch\"/>\n",
      "  <link href=\"//wordpress.let.vupr.nl\" rel=\"dns-prefetch\"/>\n",
      "  <link href=\"//fonts.googleapis.com\" rel=\"dns-prefetch\"/>\n",
      "  <link href=\"//s.w.org\" rel=\"dns-prefetch\"/>\n",
      "  <link crossorigin=\"\" href=\"https://fonts.gstatic.com\" rel=\"preconnect\"/>\n",
      "  <link href=\"http://www.cltl.nl/feed/\" rel=\"alternate\" title=\"CLTL » Feed\" type=\"application/rss+xml\"/>\n",
      "  <link href=\"http://www.cltl.nl/comments/feed/\" rel=\"alternate\" title=\"CLTL » Comments Feed\" type=\"application/rss+xml\"/>\n",
      "  <link href=\"http://www.cltl.nl/events/?ical=1\" rel=\"alternate\" title=\"CLTL » iCal Feed\" type=\"text/calendar\"/>\n",
      "  <script type=\"text/javascript\">\n",
      "   window._wpemojiSettings = {\"baseUrl\":\"https:\\/\\/s.w.org\\/images\\/core\\/emoji\\/11\\/72x72\\/\",\"ext\":\".png\",\"svgUrl\":\"https:\\/\\/s.w.org\\/images\\/core\\/emoji\\/11\\/svg\\/\",\"svgExt\":\".svg\",\"source\":{\"concatemoji\":\"http:\\/\\/www.cltl.nl\\/wp-includes\\/js\\/wp-emoji-release.min.js?ver=4.9.12\"}};\n",
      "\t\t\t!function(a,b,c){function d(a,b){var c=String.fromCharCode;l.clearRect(0,0,k.width,k.height),l.fillText(c.apply(this,a),0,0);var d=k.toDataURL();l.clearRect(0,0,k.width,k.height),l.fillText(c.apply(this,b),0,0);var e=k.toDataURL();return d===e}function e(a){var b;if(!l||!l.fillText)return!1;switch(l.textBaseline=\"top\",l.font=\"600 32px Arial\",a){case\"flag\":return!(b=d([55356,56826,55356,56819],[55356,56826,8203,55356,56819]))&&(b=d([55356,57332,56128,56423,56128,56418,56128,56421,56128,56430,56128,56423,56128,56447],[55356,57332,8203,56128,56423,8203,56128,56418,8203,56128,56421,8203,56128,56430,8203,56128,56423,8203,56128,56447]),!b);case\"emoji\":return b=d([55358,56760,9792,65039],[55358,56760,8203,9792,65039]),!b}return!1}function f(a){var c=b.createElement(\"script\");c.src=a,c.defer=c.type=\"text/javascript\",b.getElementsByTagName(\"head\")[0].appendChild(c)}var g,h,i,j,k=b.createElement(\"canv\n",
      "\n",
      "Somewhere in the middle:\n",
      "   </li>\n",
      "           <li class=\"page_item page-item-51\">\n",
      "            <a href=\"http://www.cltl.nl/projects/previous-projects/inclusive-insight/\">\n",
      "             INclusive INsight\n",
      "            </a>\n",
      "           </li>\n",
      "           <li class=\"page_item page-item-57\">\n",
      "            <a href=\"http://www.cltl.nl/projects/previous-projects/can-we-handle-the-news/\">\n",
      "             Can we Handle the News (EYR4)\n",
      "            </a>\n",
      "           </li>\n",
      "           <li class=\"page_item page-item-71\">\n",
      "            <a href=\"http://www.cltl.nl/projects/previous-projects/opener/\">\n",
      "             OpeNER\n",
      "            </a>\n",
      "           </li>\n",
      "           <li class=\"page_item page-item-73\">\n",
      "            <a href=\"http://www.cltl.nl/projects/previous-projects/mapping-notes-and-nodes-in-networks/\">\n",
      "             Mapping Notes and Nodes in Networks\n",
      "            </a>\n",
      "           </li>\n",
      "           <li class=\"page_item page-item-75\">\n",
      "            <a href=\"http://www.cltl.nl/projects/previous-projects/kyoto/\">\n",
      "             KYOTO\n",
      "            </a>\n",
      "           </li>\n",
      "           <li class=\"page_item page-item-77\">\n",
      "            <a href=\"http://www.cltl.nl/projects/previous-projects/cornetto-lmf-rdf/\">\n",
      "             Cornetto-LMF-RDF\n",
      "            </a>\n",
      "           </li>\n",
      "           <li class=\"page_item page-item-79\">\n",
      "            <a href=\"http://www.cltl.nl/projects/previous-projects/from-sentiments-and-opinions-in-texts-to-positions-of-political-parties/\">\n",
      "             From sentiments and opinions in texts to positions of political parties\n",
      "            </a>\n",
      "           </li>\n",
      "           <li class=\"page_item page-item-81\">\n",
      "            <a href=\"http://www.cltl.nl/projects/previous-projects/semantics-of-history/\">\n",
      "             Semantics of History\n",
      "            </a>\n",
      "           </li>\n",
      "           <li class=\"page_item page-item-83\">\n",
      "            <a href=\"http://www.cltl.nl/projects/previous-projects/thsis/\">\n",
      "             TH@SIS\n",
      "            </a>\n",
      "           </li>\n",
      "           <li class=\"page_item page-item-85\">\n",
      "            <a href=\"http://www.cltl.nl/projects/previous-projects/dutchsemcor/\">\n",
      "             DutchSemCor\n",
      "            </a>\n",
      "           </li>\n",
      "           <li class=\"page_item page-item-87\">\n",
      "            <a href=\"http://www.cltl.nl/projects/previous-projects/flarenet/\">\n",
      "             FLaReNet\n",
      "            </a>\n",
      "           </li>\n",
      "           <li class=\"page_item page-item-89\">\n",
      "            <a href=\"http://www.cltl.nl/projects/previous-projects/cornetto/\">\n",
      "             Cornetto\n",
      "            </a>\n",
      "           </li>\n",
      "           <li class=\"page_item page-item-91\">\n",
      "            <a href=\"http://www.cltl.nl/projects/previous-projects/dutchsemcor-pilotgrant/\">\n",
      "             DutchSemCor Pilotgrant\n",
      "            </a>\n",
      "           </li>\n",
      "           <li class=\"page_item page-item-59\">\n",
      "            <a href=\"http://www.cltl.nl/projects/previous-projects/storetelling/\">\n",
      "             StoreTelling\n",
      "            </a>\n",
      "           </li>\n",
      "          </ul>\n",
      "         </li>\n",
      "         <li class=\"page_item page-item-36 page_item_has_children\">\n",
      "          <a href=\"http://www.cltl.nl/projects/centres-associations/\">\n",
      "           Centres &amp; Associations\n",
      "          </a>\n",
      "          <ul class=\"children\">\n",
      "           <li class=\"page_item page-item-42\">\n",
      "            <a href=\"http://www.cltl.nl/projects/centres-associations/global-wordnet-association/\">\n",
      "             Global WordNet Association\n",
      "            </a>\n",
      "           </li>\n",
      "           <li class=\"page_item page-item-44\">\n",
      "            <a href=\"http://www.cltl.nl/projects/centres-associations/dutch-terminology-service-centre/\">\n",
      "             Dutch Terminology Service Centre\n",
      "            </a>\n",
      "           </li>\n",
      "           <li class=\"page_item page-item-46\">\n",
      "            <a href=\"http://www.cltl.nl/projects/centres-associations/centre-for-digital-humanities-amsterdam/\">\n",
      "             Centre for Digital Humanities Amsterdam\n",
      "            </a>\n",
      "           </li>\n",
      "          </ul>\n",
      "         </li>\n",
      "        </ul>\n",
      "       </li>\n",
      "       <li class=\"page_item page-item-93 page_item_has_children\">\n",
      "        <a href=\"http://www.cltl.nl/teaching/\">\n",
      "         Teaching\n",
      "        </a>\n",
      "        <ul class=\"children\">\n",
      "         <li class=\"page_item page-item-1837 page_item_has_children\">\n",
      "          <a href=\"http://www.cltl.nl/teaching/human-language-technology/\">\n",
      "           Human Language Technology ▷Track in 2-year Research Master Humanities\n",
      "          </a>\n",
      "          <ul class=\"children\">\n",
      "           <li class=\"page_item page-item-2238\">\n",
      "            <a href=\"http://www.cltl.nl/teaching/human-language-technology/hlt-course-overview-2018-2019/\">\n",
      "             Human Language Technology Program 2018-2019\n",
      "            </a>\n",
      "           </li>\n",
      "          </ul>\n",
      "         </li>\n",
      "         <li class=\"page_item page-item-3499\">\n",
      "          <a href=\"http://www.cltl.nl/teaching/text-mining-%e2%96%b7track-in-1-year-master/\">\n",
      "           Text Mining ▷Track in 1-year Master Linguistics\n",
      "          </a>\n",
      "         </li>\n",
      "         <li class=\"page_item page-item-2294\">\n",
      "          <a href=\"http://www.cltl.nl/teaching/forensic-linguistics/\">\n",
      "           Forensic Linguistics  ▷Track in 2-year Res\n"
     ]
    }
   ],
   "source": [
    "from bs4 import BeautifulSoup\n",
    "soup = BeautifulSoup(html, 'html5lib')\n",
    "print('The start of the HTML content:')\n",
    "print(soup.prettify()[:3000])\n",
    "print()\n",
    "#We print here characters 10:000 till 11:000\n",
    "print('Somewhere in the middle:')\n",
    "print(soup.prettify()[20000:25000])\n",
    "#print(soup.prettify())"
   ]
  },
  {
   "cell_type": "markdown",
   "metadata": {},
   "source": [
    "Luckily, we also have the function *soup.get_text()* that finds the text snippets. We use a regular expression package *re* to remove spurious tabs and newlines and join the text snippets through spaces. We provide here a complete function *url_to_string* that will get text from any url."
   ]
  },
  {
   "cell_type": "code",
   "execution_count": 4,
   "metadata": {},
   "outputs": [],
   "source": [
    "from bs4 import BeautifulSoup\n",
    "import requests \n",
    "import re\n",
    "\n",
    "def url_to_string(url):\n",
    "    \"\"\"\n",
    "    Utility function to get the raw text from a web page.  \n",
    "    It takes a URL string as input and returns the text.\n",
    "    \"\"\"\n",
    "    res = requests.get(url)\n",
    "    html = res.text\n",
    "    soup = BeautifulSoup(html, 'html5lib')\n",
    "    # The next loop removes non-text elements\n",
    "    for script in soup([\"script\", \"style\", 'aside']):\n",
    "        script.extract()\n",
    "    # Now, we remove the new lines  \n",
    "    return \" \".join(re.split(r'[\\n\\t]+', soup.get_text()))\n",
    "    # Check what happens if you do not remove newlines and tabs: replace the previous line with\n",
    "    #return soup.get_text()"
   ]
  },
  {
   "cell_type": "markdown",
   "metadata": {},
   "source": [
    "If we apply this function to the *CLTL* website, we will get the plain text that we can save to a file as natural language text data. Play with the code above to understand the way the text is glued together. See what happens if you skip the for-loop, or the removing of tabs and newlines."
   ]
  },
  {
   "cell_type": "code",
   "execution_count": 6,
   "metadata": {},
   "outputs": [
    {
     "name": "stdout",
     "output_type": "stream",
     "text": [
      " CLTL | the Computational Lexicology & Terminology Lab of Prof. Dr. Piek Vossen   CLTL the Computational Lexicology & Terminology Lab of Prof. Dr. Piek Vossen Menu Skip to content HomePeople Projects Future Projects The Reference Machine Theory of Identity, Reference and Perspective (TIRP) Discriminatory Micro Portraits Current projects Robot Leolani Weekend of Science 2018: Talking with Robots Leolani in Brno 2018 Weekend of Science 2017: Talking with Robots Understanding of Language by Machines Dutch Framenet Hybrid Intelligence SERPENS Word, Sense and Reference QuPiD2 HHuCap Reading between the lines VU University Research Fellow CLARIAH Visualizing Uncertainty and Perspectives Digital Humanities Open Dutch Wordnet Global WordNet Grid Global WordNet Association Previous projects NewsReader BiographyNet Language, Knowledge and People in Perspective CLIN26 Investigating Criminal Networks INclusive INsight Can we Handle the News (EYR4) OpeNER Mapping Notes and Nodes in Networks KYOTO Cornetto-LMF-RDF From sentiments and opinions in texts to positions of political parties Semantics of History TH@SIS DutchSemCor FLaReNet Cornetto DutchSemCor Pilotgrant StoreTelling Centres & Associations Global WordNet Association Dutch Terminology Service Centre Centre for Digital Humanities Amsterdam Teaching Human Language Technology ▷Track in 2-year Research Master Humanities Human Language Technology Program 2018-2019 Text Mining ▷Track in 1-year Master Linguistics Forensic Linguistics  ▷Track in 2-year Research Master Humanities Minor Digital Humanities Student Assistant Projects Enhancing Quality Assessment Using Perspective Detection Mining Stereotypes Modelling Perspectives in Philosophy Political Discourse in the news Mining Causal Graphs from Patient Records Medical Trust Networks Polemics Visualised Time will tell a different story Call for Student Assistants Student projects Text Mining Student projects Text Mining 2018 Student Projects Text Mining 2017 Student Projects Text Mining 2016 Thesis topics and Internships Internships Scholarships Meet & Greet companies & CLTL-students Meet & Greet December 13, 2019 Meet & Greet December 8, 2017 Publications Publications CLTL Publication Requirements Resources Corpora and Lexica Demos Open Source Dutch WordNet Wordnet Similarity Demo Wordnet Graphs Cornetto Ambiguity demo Uncertainty Visualization The VU Sound Corpus Soundtags Wsd4Kids Software Ontotagger Kybot KafSaxParser MultiwordTagger KafNafAnnotator EventCoreference WordnetTools Computer Facilities News KAF Home Computational Lexicology & Terminology Lab The Computational Lexicology and Terminology Lab (CLTL) with Prof.Dr. Piek Vossen as director is part of the Department of Language, Literature and Communication of the Faculty of Humanities of the Vrije Universiteit Amsterdam, and of the Network Institute. The Computational Lexicology & Terminology Lab (CLTL) models the understanding of natural language through computers with a central role for knowledge sources such as lexicons, ontologies and terminology (please go here for an overview of our research) Our application perspective is text mining: technology that is used to automatically extract knowledge and information from text. This ranges from simple statements and fact, to events, storylines, to opinions and world-views. Within this main research goal, we study and model the lexicon in all its facets. We consider the lexicon as a neural-cognitive product including epistemic and symbolic features. From this perspective, our research question is “how these neural-cognitive systems develop and function when we learn and use language?”. We also consider lexicons as a module for many computer applications that are knowledge-based. We are especially interested in the role of the lexicon as a bridge between form and meaning. Our research question here is: “how can we anchor words and expressions to formalized meaning so that computers can simulate language understanding and effective communication?”. A third research question relates to the acquisition of lexical knowledge from text-corpora, specifically terminology in specialized communities and context. What words are used, how they relate semantically, what their distribution is, how they collocate. We develop automatic techniques and methods to answer these questions.  Finally: we do all lexical and terminological research for multiple languages. An important project is the building of the Global Wordnet Grid: this project aims at representing many vocabularies of languages as semantic networks or wordnets and combining them through a universal index of meaning. Building and studying this grid will tell us more about universalities and idiosyncrasies of languages and likewise about the roles and functions of words and expressions. Video explaining  5 years of research in the Spinoza-projects “Understanding Language by Machines“, 2019 Video explaining NewsReader‘s Reading Machine — Example of one of CLTL’s projects Lecture (in Dutch) Prof. dr. Piek Vossen at Paradiso Amsterdam: ‘To Communicate with an Imperfect Robot — Get It?’ March 25, 2018 Proudly powered by WordPress \n"
     ]
    }
   ],
   "source": [
    "url =\"http://cltl.nl\"\n",
    "cltl_content=url_to_string(url)\n",
    "print(cltl_content)"
   ]
  },
  {
   "cell_type": "markdown",
   "metadata": {},
   "source": [
    "The value of the variable *cltl_content* can be saved to a file to build up a text data set."
   ]
  },
  {
   "cell_type": "code",
   "execution_count": 7,
   "metadata": {},
   "outputs": [
    {
     "data": {
      "text/plain": [
       "5164"
      ]
     },
     "execution_count": 7,
     "metadata": {},
     "output_type": "execute_result"
    }
   ],
   "source": [
    "url =\"http://cltl.nl\"\n",
    "cltl_content=url_to_string(url)\n",
    "\n",
    "filename='cltl.txt'\n",
    "f=open(filename,\"w+\")\n",
    "f.write(cltl_content)\n",
    "\n",
    "#print(cltl_content)"
   ]
  },
  {
   "cell_type": "markdown",
   "metadata": {},
   "source": [
    "In the further notebooks of this course, you will re-use the above function to obtain the text and to build a corpus from it."
   ]
  },
  {
   "cell_type": "markdown",
   "metadata": {},
   "source": [
    "## End of this notebook"
   ]
  },
  {
   "cell_type": "code",
   "execution_count": null,
   "metadata": {},
   "outputs": [],
   "source": []
  }
 ],
 "metadata": {
  "kernelspec": {
   "display_name": "Python 3",
   "language": "python",
   "name": "python3"
  },
  "language_info": {
   "codemirror_mode": {
    "name": "ipython",
    "version": 3
   },
   "file_extension": ".py",
   "mimetype": "text/x-python",
   "name": "python",
   "nbconvert_exporter": "python",
   "pygments_lexer": "ipython3",
   "version": "3.7.4"
  }
 },
 "nbformat": 4,
 "nbformat_minor": 4
}
