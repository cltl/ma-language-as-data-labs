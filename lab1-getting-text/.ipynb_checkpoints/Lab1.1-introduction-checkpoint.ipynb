{
 "cells": [
  {
   "cell_type": "markdown",
   "metadata": {},
   "source": [
    "# Lab1: How to get your text data"
   ]
  },
  {
   "cell_type": "markdown",
   "metadata": {},
   "source": [
    "Copyright: Vrije Universiteit Amsterdam, Faculty of Humanities, CLTL"
   ]
  },
  {
   "cell_type": "markdown",
   "metadata": {},
   "source": [
    "In LAB 1 we are going to explore different ways to access online data. Obviously, not all data can be accessed online. Facebook pages may be private and a lot of data may be hidden in databases, either not public or using an idiosyncratic API. Furthermore, data that can be accessed now using tooling may not be accessible tomorrow. The API may change or licenses restrict the access.\n",
    "\n",
    "In this LAB session, we are restricting ourselves to a number of tools to scrape the web for content:\n",
    "\n",
    "* Lab1.2: Directly obtaining webpages and obtaining the content as text\n",
    "* Lab1.3: Techcrunch\n",
    "* Lab1.4: Google news searches\n",
    "* Lab1.5: NY Times news searches\n",
    "* Lab1.6: Twitter\n",
    "\n",
    "There are many other sources of text data, think about emails, books, scientific publications, journals, whatsapp.\n",
    "\n",
    "It is a good practice to stay up-to-date on new developments on any media and the tooling that people develop to access these.\n",
    "\n",
    "**Some more Pointers**:\n",
    "\n",
    "https://en.wikipedia.org/wiki/Web_crawler\n",
    "\n",
    "https://bigdata-madesimple.com/top-50-open-source-web-crawlers-for-data-mining/\n",
    "\n",
    "https://scrapinghub.com/open-source\n"
   ]
  },
  {
   "cell_type": "markdown",
   "metadata": {},
   "source": [
    "## End of this notebook"
   ]
  },
  {
   "cell_type": "code",
   "execution_count": null,
   "metadata": {},
   "outputs": [],
   "source": []
  }
 ],
 "metadata": {
  "kernelspec": {
   "display_name": "Python 3",
   "language": "python",
   "name": "python3"
  },
  "language_info": {
   "codemirror_mode": {
    "name": "ipython",
    "version": 3
   },
   "file_extension": ".py",
   "mimetype": "text/x-python",
   "name": "python",
   "nbconvert_exporter": "python",
   "pygments_lexer": "ipython3",
   "version": "3.7.3"
  }
 },
 "nbformat": 4,
 "nbformat_minor": 4
}
