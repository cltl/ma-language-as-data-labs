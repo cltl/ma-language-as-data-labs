{
 "cells": [
  {
   "cell_type": "markdown",
   "metadata": {},
   "source": [
    "# Lab1.4: Techcrunch as a source for text"
   ]
  },
  {
   "cell_type": "markdown",
   "metadata": {},
   "source": [
    "Copyright: Vrije Universiteit Amsterdam, Faculty of Humanities, CLTL"
   ]
  },
  {
   "cell_type": "markdown",
   "metadata": {},
   "source": [
    "Techcrunch: https://techcrunch.com/ is a website with news on tech companies. It is linked to Crunchbase: https://www.crunchbase.com which contains structured information on tech companies. The TechCrunch site allows you to search on their database. If you type a key word in the search box, e.g. \"apple\", you will see the search results appear but also the URL address has been changed, e.g.:\n",
    "\n",
    "https://techcrunch.com/search/apple\n",
    "\n",
    "\n",
    "This is an example of an online database that can be accessed throug ha so-called REST API. REST stands for REpresentational State Transfer and allows people or software to make calls to a server. It is used by many websites to handle requests such as searches in databases.\n",
    "\n",
    "Below, we will show how you can now create a URL that forms a request to search in a database such as Techcrunch to obtain search results.\n",
    "\n",
    "We first define our function to process a URL with BeautifulSoup"
   ]
  },
  {
   "cell_type": "code",
   "execution_count": 4,
   "metadata": {},
   "outputs": [],
   "source": [
    "from bs4 import BeautifulSoup\n",
    "import requests \n",
    "import re\n",
    "\n",
    "#Utility function to get the raw text from a web page. \n",
    "#It takes a URL string as input and returns the text.\n",
    "def url_to_string(url):\n",
    "    res = requests.get(url)\n",
    "    html = res.text\n",
    "    soup = BeautifulSoup(html, 'html5lib')\n",
    "    for script in soup([\"script\", \"style\", 'aside']):\n",
    "        script.extract()\n",
    "    return \" \".join(re.split(r'[\\n\\t]+', soup.get_text()))"
   ]
  },
  {
   "cell_type": "markdown",
   "metadata": {},
   "source": [
    "Next, we create a URL by appending the search term to the search URL of Techcrunch. Note that other websites can use a different syntax. You should first try out a search manually to see how searches are specified. Below we search for \"apple os x\". Note that we need to represent spaces in the query through '%20'."
   ]
  },
  {
   "cell_type": "code",
   "execution_count": 6,
   "metadata": {},
   "outputs": [
    {
     "name": "stdout",
     "output_type": "stream",
     "text": [
      "The search request URL: techcrunch.com/search/apple%20os%20x\n"
     ]
    }
   ],
   "source": [
    "keyword=\"apple%20os%20x\"\n",
    "url = \"techcrunch.com/search/\"+keyword\n",
    "print('The search request URL:', url)\n",
    "r  = requests.get(\"https://\" +url)\n",
    "data = r.text\n",
    "soup = BeautifulSoup(data,'html5lib')"
   ]
  },
  {
   "cell_type": "markdown",
   "metadata": {},
   "source": [
    "The result of the search is now stored as a BeautifulSoup data structure. The BeautifulSoup documentation explains how we can access the result."
   ]
  },
  {
   "cell_type": "code",
   "execution_count": 16,
   "metadata": {},
   "outputs": [
    {
     "data": {
      "text/plain": [
       "bs4.BeautifulSoup"
      ]
     },
     "execution_count": 16,
     "metadata": {},
     "output_type": "execute_result"
    }
   ],
   "source": [
    "type(soup)"
   ]
  },
  {
   "cell_type": "markdown",
   "metadata": {},
   "source": [
    "We are going to iterate over all HTML anchors 'a' and obtain the hyperlink 'href' as an URL. We use our function 'url_to_string' to obtain the text from each URL and save it in a file in the folder 'textcrunch_search_results'. Make sure that this folder exists before you call the next cell."
   ]
  },
  {
   "cell_type": "code",
   "execution_count": null,
   "metadata": {},
   "outputs": [
    {
     "name": "stdout",
     "output_type": "stream",
     "text": [
      "https://techcrunch.com/2016/09/01/apple-patches-zero-day-vulnerabilities-in-safari-and-os-x/\n",
      "https://techcrunch.com/author/devin-coldewey/\n",
      "https://techcrunch.com/2016/09/01/apple-patches-zero-day-vulnerabilities-in-safari-and-os-x/\n",
      "https://techcrunch.com/2016/01/27/apple-has-fixed-bug-that-was-crashing-safari-at-least-on-os-x/\n",
      "https://techcrunch.com/author/romain-dillet/\n",
      "https://techcrunch.com/2016/01/27/apple-has-fixed-bug-that-was-crashing-safari-at-least-on-os-x/\n",
      "https://techcrunch.com/2016/01/20/apple-releases-ios-and-os-x-updates-with-bug-fixes-and-performance-improvements/\n",
      "https://techcrunch.com/author/romain-dillet/\n",
      "https://techcrunch.com/2016/01/20/apple-releases-ios-and-os-x-updates-with-bug-fixes-and-performance-improvements/\n",
      "https://techcrunch.com/2015/09/30/os-x-el-capitan-review/\n",
      "https://techcrunch.com/author/romain-dillet/\n",
      "https://techcrunch.com/2015/09/30/os-x-el-capitan-review/\n",
      "https://techcrunch.com/2018/11/05/review-ipad-pro-pencil-12-9-inch/\n"
     ]
    }
   ],
   "source": [
    "for i, link in enumerate(soup.find_all('a'), 1):\n",
    "    embeddedurl=(link.get('href'))\n",
    "    print(embeddedurl)\n",
    "    text=embeddedurl+'\\n'+url_to_string(embeddedurl)\n",
    "    filename=\"techcrunch_search_results/\"+keyword+str(i)+\".txt\"\n",
    "    f= open(filename,\"w+\")\n",
    "    f.write(text)\n",
    "    result+=1"
   ]
  },
  {
   "cell_type": "markdown",
   "metadata": {},
   "source": [
    "## End of this notebook"
   ]
  }
 ],
 "metadata": {
  "kernelspec": {
   "display_name": "Python 3",
   "language": "python",
   "name": "python3"
  },
  "language_info": {
   "codemirror_mode": {
    "name": "ipython",
    "version": 3
   },
   "file_extension": ".py",
   "mimetype": "text/x-python",
   "name": "python",
   "nbconvert_exporter": "python",
   "pygments_lexer": "ipython3",
   "version": "3.6.5"
  }
 },
 "nbformat": 4,
 "nbformat_minor": 2
}
