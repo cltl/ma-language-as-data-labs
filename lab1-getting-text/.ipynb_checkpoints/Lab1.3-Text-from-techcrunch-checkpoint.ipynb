{
 "cells": [
  {
   "cell_type": "markdown",
   "metadata": {},
   "source": [
    "# Lab1.3: Techcrunch as a source for text"
   ]
  },
  {
   "cell_type": "markdown",
   "metadata": {},
   "source": [
    "Copyright: Vrije Universiteit Amsterdam, Faculty of Humanities, CLTL"
   ]
  },
  {
   "cell_type": "markdown",
   "metadata": {},
   "source": [
    "[Techcrunch](https://techcrunch.com/) is a website with news on tech companies. It is linked to [Crunchbase](https://www.crunchbase.com) which contains structured information on tech companies. The TechCrunch site allows you to search on their database. If you type a key word in the search box, e.g. \"apple\", you will see the search results appear; but also the URL address has been changed, e.g.:\n",
    "\n",
    "https://techcrunch.com/search/apple\n",
    "\n",
    "\n",
    "This is an example of an online database that can be accessed through a so-called REST API. REST stands for REpresentational State Transfer and allows people or software to make calls to a server. It is used by many websites to handle requests such as searches in databases.\n",
    "\n",
    "Below, we will show how you can now create a URL that forms a request to search in a database such as Techcrunch to obtain search results. Next, we process the search result using BeatifulSoup to obtain the URLs and next to obtain the text from each URL. We save the text to separate text files in a folder.\n"
   ]
  },
  {
   "cell_type": "markdown",
   "metadata": {},
   "source": [
    "## 1 Calling the TechCrunch REST API"
   ]
  },
  {
   "cell_type": "markdown",
   "metadata": {},
   "source": [
    "Next, we create a URL by appending the search term to the search URL of Techcrunch. Note that other websites can use a different syntax. You should first try out a search manually to see how searches are specified. Below we search for \"apple os x\". Note that we need to represent spaces in the query through '%20'."
   ]
  },
  {
   "cell_type": "code",
   "execution_count": 2,
   "metadata": {},
   "outputs": [
    {
     "name": "stdout",
     "output_type": "stream",
     "text": [
      "The search request URL: techcrunch.com/search/apple%20os%20x\n"
     ]
    }
   ],
   "source": [
    "keyword=\"apple%20os%20x\"\n",
    "url = \"techcrunch.com/search/\"+keyword\n",
    "print('The search request URL:', url)\n",
    "r  = requests.get(\"https://\" +url)\n",
    "data = r.text"
   ]
  },
  {
   "cell_type": "markdown",
   "metadata": {},
   "source": [
    "## 2 Use BeatifulSoup to get the resulting URLs and save the text to a result file"
   ]
  },
  {
   "cell_type": "markdown",
   "metadata": {},
   "source": [
    "The result fo the request is a result that is normally shown in a browser. We can therefore simply pass the result of the request to BeautifulSoup to create a soup data structure."
   ]
  },
  {
   "cell_type": "code",
   "execution_count": null,
   "metadata": {},
   "outputs": [],
   "source": [
    "soup = BeautifulSoup(data,'html5lib')"
   ]
  },
  {
   "cell_type": "markdown",
   "metadata": {},
   "source": [
    "The result of the search is now stored as a BeautifulSoup data structure. The BeautifulSoup documentation explains how we can access the result. \n",
    "We first define here again our function to process a URL with BeautifulSoup that we looked at before in the notebook Lab1.2-Text-from-the-web.ipynb"
   ]
  },
  {
   "cell_type": "code",
   "execution_count": null,
   "metadata": {},
   "outputs": [],
   "source": [
    "from bs4 import BeautifulSoup\n",
    "import requests \n",
    "import re\n",
    "\n",
    "\n",
    "def url_to_string(url):\n",
    "    \"\"\"\n",
    "    Utility function to get the raw text from a web page. \n",
    "    It takes a URL string as input and returns the text.\n",
    "    \"\"\"\n",
    "    res = requests.get(url)\n",
    "    html = res.text\n",
    "    soup = BeautifulSoup(html, 'html5lib')\n",
    "    for script in soup([\"script\", \"style\", 'aside']):\n",
    "        script.extract()\n",
    "    return \" \".join(re.split(r'[\\n\\t]+', soup.get_text()))"
   ]
  },
  {
   "cell_type": "markdown",
   "metadata": {},
   "source": [
    "The HTML element `a` is used to represents hyperlinks in HTML. We are going to iterate over all HTML anchors `a` and obtain the hyperlink `href` as a URL. Using the function `find_all` we obtain a list of all the links. We use our function `url_to_string` to obtain the text from each URL and save it in a file in the folder `textcrunch_search_results`. Make sure that this folder exists before you run the next cell. \n",
    "\n",
    "In order to keep the results apart, we also use an index `i` from the enumerate function applied to the result list. We create an output file using the `i` "
   ]
  },
  {
   "cell_type": "code",
   "execution_count": 3,
   "metadata": {},
   "outputs": [
    {
     "name": "stdout",
     "output_type": "stream",
     "text": [
      "https://techcrunch.com/2016/09/01/apple-patches-zero-day-vulnerabilities-in-safari-and-os-x/\n",
      "https://techcrunch.com/author/devin-coldewey/\n",
      "https://techcrunch.com/2016/09/01/apple-patches-zero-day-vulnerabilities-in-safari-and-os-x/\n",
      "https://techcrunch.com/2016/01/27/apple-has-fixed-bug-that-was-crashing-safari-at-least-on-os-x/\n",
      "https://techcrunch.com/author/romain-dillet/\n",
      "https://techcrunch.com/2016/01/27/apple-has-fixed-bug-that-was-crashing-safari-at-least-on-os-x/\n",
      "https://techcrunch.com/2016/01/20/apple-releases-ios-and-os-x-updates-with-bug-fixes-and-performance-improvements/\n",
      "https://techcrunch.com/author/romain-dillet/\n",
      "https://techcrunch.com/2016/01/20/apple-releases-ios-and-os-x-updates-with-bug-fixes-and-performance-improvements/\n",
      "https://techcrunch.com/2015/09/30/os-x-el-capitan-review/\n",
      "https://techcrunch.com/author/romain-dillet/\n",
      "https://techcrunch.com/2015/09/30/os-x-el-capitan-review/\n",
      "https://techcrunch.com/2015/10/21/apple-rolls-out-updates-for-ios-watchos-and-os-x-including-support-for-new-emoji-and-the-middle-finger/\n",
      "https://techcrunch.com/author/sarah-perez/\n",
      "https://techcrunch.com/2015/10/21/apple-rolls-out-updates-for-ios-watchos-and-os-x-including-support-for-new-emoji-and-the-middle-finger/\n",
      "https://techcrunch.com/2018/11/05/review-ipad-pro-pencil-12-9-inch/\n",
      "https://techcrunch.com/author/matthew-panzarino/\n",
      "https://techcrunch.com/2018/11/05/review-ipad-pro-pencil-12-9-inch/\n",
      "https://techcrunch.com/2015/06/08/apple-announces-mac-os-x-10-11-el-capitan/\n",
      "https://techcrunch.com/author/kyle-russell/\n",
      "https://techcrunch.com/2015/06/08/apple-announces-mac-os-x-10-11-el-capitan/\n",
      "https://techcrunch.com/2016/04/17/the-next-version-of-os-x-could-be-called-macos/\n",
      "https://techcrunch.com/author/romain-dillet/\n",
      "https://techcrunch.com/2016/04/17/the-next-version-of-os-x-could-be-called-macos/\n",
      "https://techcrunch.com/2015/07/21/apple-drops-new-developer-betas-of-ios-9-os-x-el-capitan-watchos-2/\n",
      "https://techcrunch.com/author/lucas-matney/\n",
      "https://techcrunch.com/2015/07/21/apple-drops-new-developer-betas-of-ios-9-os-x-el-capitan-watchos-2/\n",
      "https://techcrunch.com/video/wwdc-2015-el-capitan-apple-music-ios-9-os-x-crunch-report/\n",
      "https://techcrunch.com/video/wwdc-2015-el-capitan-apple-music-ios-9-os-x-crunch-report/\n",
      "https://techcrunch.com/author/joetechcrunch/\n",
      "https://techcrunch.com/2015/03/02/apple-brings-photos-app-to-the-os-x-public-beta-program/\n",
      "https://techcrunch.com/author/darrell-etherington/\n",
      "https://techcrunch.com/2015/03/02/apple-brings-photos-app-to-the-os-x-public-beta-program/\n",
      "https://techcrunch.com/2015/02/13/tc-applecast-4-the-apple-car-ios-9-and-photos-for-os-x/\n",
      "https://techcrunch.com/author/darrell-etherington/\n",
      "https://techcrunch.com/author/kyle-russell/\n",
      "https://techcrunch.com/2015/02/13/tc-applecast-4-the-apple-car-ios-9-and-photos-for-os-x/\n",
      "https://techcrunch.com/2016/06/22/an-early-look-at-macos-sierra/\n",
      "https://techcrunch.com/author/romain-dillet/\n",
      "https://techcrunch.com/2016/06/22/an-early-look-at-macos-sierra/\n",
      "https://techcrunch.com/2016/06/13/os-x-is-now-macos-and-gets-support-for-siri-auto-unlock-and-more/\n",
      "https://techcrunch.com/author/frederic-lardinois/\n",
      "https://techcrunch.com/2016/06/13/os-x-is-now-macos-and-gets-support-for-siri-auto-unlock-and-more/\n",
      "https://techcrunch.com/2015/09/30/os-x-el-capitan-now-available-to-download/\n",
      "https://techcrunch.com/author/romain-dillet/\n",
      "https://techcrunch.com/2015/09/30/os-x-el-capitan-now-available-to-download/\n",
      "https://techcrunch.com/2014/09/29/apple-just-patched-the-shellshock-bug-in-os-x/\n",
      "https://techcrunch.com/author/greg-kumparak/\n",
      "https://techcrunch.com/2014/09/29/apple-just-patched-the-shellshock-bug-in-os-x/\n",
      "https://techcrunch.com/2015/02/20/apple-said-to-be-planning-os-x-like-public-beta-seed-program-for-ios-too/\n",
      "https://techcrunch.com/author/darrell-etherington/\n",
      "https://techcrunch.com/2015/02/20/apple-said-to-be-planning-os-x-like-public-beta-seed-program-for-ios-too/\n",
      "https://techcrunch.com/2014/09/17/apple-ipad-and-os-x-event-tipped-for-october/\n",
      "https://techcrunch.com/author/darrell-etherington/\n",
      "https://techcrunch.com/2014/09/17/apple-ipad-and-os-x-event-tipped-for-october/\n",
      "https://techcrunch.com/2014/09/26/apple-says-majority-of-os-x-users-are-safe-from-bash-exploits/\n",
      "https://techcrunch.com/author/darrell-etherington/\n",
      "https://techcrunch.com/2014/09/26/apple-says-majority-of-os-x-users-are-safe-from-bash-exploits/\n",
      "https://techcrunch.com/2016/06/13/apple-launches-imessage-apps-so-third-party-devs-can-get-join-your-convos/\n",
      "https://techcrunch.com/author/jordan-crook/\n",
      "https://techcrunch.com/2016/06/13/apple-launches-imessage-apps-so-third-party-devs-can-get-join-your-convos/\n"
     ]
    }
   ],
   "source": [
    "for i, link in enumerate(soup.find_all('a'), 1):\n",
    "    embeddedurl=(link.get('href'))\n",
    "    print(embeddedurl)\n",
    "    text=embeddedurl+'\\n'+url_to_string(embeddedurl)\n",
    "    filename=\"techcrunch_search_results/\"+keyword+str(i)+\".txt\"\n",
    "    f= open(filename,\"w+\")\n",
    "    f.write(text)\n"
   ]
  },
  {
   "cell_type": "markdown",
   "metadata": {},
   "source": [
    "## End of this notebook"
   ]
  }
 ],
 "metadata": {
  "kernelspec": {
   "display_name": "Python 3",
   "language": "python",
   "name": "python3"
  },
  "language_info": {
   "codemirror_mode": {
    "name": "ipython",
    "version": 3
   },
   "file_extension": ".py",
   "mimetype": "text/x-python",
   "name": "python",
   "nbconvert_exporter": "python",
   "pygments_lexer": "ipython3",
   "version": "3.7.4"
  }
 },
 "nbformat": 4,
 "nbformat_minor": 4
}
