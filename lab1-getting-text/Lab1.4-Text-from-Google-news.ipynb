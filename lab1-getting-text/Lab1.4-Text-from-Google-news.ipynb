{
 "cells": [
  {
   "cell_type": "markdown",
   "metadata": {},
   "source": [
    "# Lab1.4: Google news as a source of text"
   ]
  },
  {
   "cell_type": "markdown",
   "metadata": {},
   "source": [
    "Copyright: Vrije Universiteit Amsterdam, Faculty of Humanities, CLTL"
   ]
  },
  {
   "cell_type": "markdown",
   "metadata": {},
   "source": [
    "In this notebook, we use the Google news API to search for news: \n",
    "\n",
    "https://news.google.com/?hl=en-US&gl=US&ceid=US:en\n",
    "\n",
    "We follow a similar approach as for Techcrunch and use BeautifulSoup to get the content. \n",
    "\n",
    "However, now we will also work with the structure of the Google news output. We do the usual imports for making a request and process the output through BeautifulSoup."
   ]
  },
  {
   "cell_type": "code",
   "execution_count": 1,
   "metadata": {},
   "outputs": [],
   "source": [
    "from bs4 import BeautifulSoup\n",
    "import requests"
   ]
  },
  {
   "cell_type": "markdown",
   "metadata": {},
   "source": [
    "## 1. Making a request to the Goggle News API"
   ]
  },
  {
   "cell_type": "code",
   "execution_count": 2,
   "metadata": {},
   "outputs": [
    {
     "name": "stdout",
     "output_type": "stream",
     "text": [
      "http://news.google.com/?q=vaccines&hl=vaccines-en&gl=en\n"
     ]
    }
   ],
   "source": [
    "import requests\n",
    "query='vaccines'\n",
    "\n",
    "query = query.lower()\n",
    "language='en'\n",
    "region='us'\n",
    "base_url = \"http://news.google.com\"\n",
    "query_url = \"{0}/?q={1}&hl={1}-{2}&gl={2}\".format(base_url, query, language, region)\n",
    "print(query_url)\n",
    "google_news_content= requests.get(query_url).content"
   ]
  },
  {
   "cell_type": "markdown",
   "metadata": {},
   "source": [
    "The result is an HTML string. We can inspect the start of this string. Let's look at the first 1000 characters:"
   ]
  },
  {
   "cell_type": "code",
   "execution_count": 3,
   "metadata": {},
   "outputs": [
    {
     "name": "stdout",
     "output_type": "stream",
     "text": [
      "b'<!doctype html><html lang=\"en\" dir=\"ltr\"><head><base href=\"https://news.google.com/\"><meta name=\"referrer\" content=\"origin\"><link rel=\"canonical\" href=\"https://news.google.com/search\"><meta name=\"viewport\" content=\"width=device-width,initial-scale=1,minimal-ui\"><meta name=\"apple-itunes-app\" content=\"app-id=459182288\"><meta name=\"google-site-verification\" content=\"AcBy5YFny2HQgVUCR18tO5YUTf6MpVlcJqGTd-a9-SI\"><meta name=\"mobile-web-app-capable\" content=\"yes\"><meta name=\"apple-mobile-web-app-capable\" content=\"yes\"><meta name=\"application-name\" content=\"News\"><meta name=\"apple-mobile-web-app-title\" content=\"News\"><meta name=\"apple-mobile-web-app-status-bar-style\" content=\"black\"><meta name=\"theme-color\" content=\"white\"><meta name=\"msapplication-tap-highlight\" content=\"no\"><link rel=\"shortcut icon\" href=\"https://lh3.googleusercontent.com/-DR60l-K8vnyi99NZovm9HlXyZwQ85GMDxiwJWzoasZYCUrPuUM_P_4Rb7ei03j-0nRs0c4F=w16\" sizes=\"16x16\"><link rel=\"shortcut icon\" href=\"https://lh3.googleusercontent.c'\n"
     ]
    }
   ],
   "source": [
    "print(google_news_content[:1000])"
   ]
  },
  {
   "cell_type": "markdown",
   "metadata": {},
   "source": [
    "## 2. Using BeatifulSoup to process the result"
   ]
  },
  {
   "cell_type": "markdown",
   "metadata": {},
   "source": [
    "We are going to use BeautifulSoup again to flesh out the results. So let's first turn the string returned by Google into a `soup` object."
   ]
  },
  {
   "cell_type": "code",
   "execution_count": 4,
   "metadata": {},
   "outputs": [],
   "source": [
    "from bs4 import BeautifulSoup\n",
    "\n",
    "soup = BeautifulSoup(google_news_content, 'html.parser')"
   ]
  },
  {
   "cell_type": "markdown",
   "metadata": {},
   "source": [
    "We are not going into the specific structure of the Google news result structure but we define two specific functions that get the *author* of the news article and the actual *content*.\n",
    "\n",
    "Analyse the two functions and try to understand the code. Note that if the format of the Google news output changes, also the code may have to be adapted. These functions use regular expressions: https://docs.python.org/3/library/re.html Regular expressions allow you to 'parse' strings using simple patterns. We need to import the re package to use regular expressions."
   ]
  },
  {
   "cell_type": "code",
   "execution_count": 5,
   "metadata": {},
   "outputs": [],
   "source": [
    "import re\n",
    "\n",
    "# This function requires the Beautiful soup object \n",
    "# that we get back from the request to the Google API\n",
    "\n",
    "def parse_author(html):\n",
    "    result = \"\"\n",
    "    html = BeautifulSoup(html, 'html.parser')\n",
    "    # Try Parsing Author from Meta Tags\n",
    "    author = html.find('meta', attrs={'name': re.compile('author')}) or \\\n",
    "             html.find('meta', property=re.compile('author', re.IGNORECASE))\n",
    "\n",
    "    if author: result = author['content']\n",
    "    else:  # Otherwise, try parsing Author from Text\n",
    "        author = html.find(attrs={'itemprop': 'author'}) or \\\n",
    "                 html.find(attrs={'class': 'byline'})\n",
    "        if author: result = author.text\n",
    "\n",
    "    return re.sub(r\"\\s+\", \" \", re.sub(\"by \", \"\", result, flags=re.IGNORECASE)).strip()\n",
    "\n",
    "\n",
    "# This function requires the HTML content we get \n",
    "# back from the request to the Google API\n",
    "\n",
    "def parse_news_text(html):\n",
    "\n",
    "    html = BeautifulSoup(html, 'html.parser')\n",
    "\n",
    "    # Try to find Article Body by Semantic Tag\n",
    "    article = html.find('article')\n",
    "\n",
    "    # Otherwise, try to find Article Body by Class Name (with the largest number of paragraphs)\n",
    "    if not article:\n",
    "        articles = html.find_all(class_=re.compile('(body|article|main)', re.IGNORECASE))\n",
    "        if articles:\n",
    "            article = sorted(articles, key=lambda x: len(x.find_all('p')), reverse=True)[0]\n",
    "\n",
    "    # Parse text from all Paragraphs\n",
    "    text = []\n",
    "    if article:\n",
    "        for paragraph in [tag.text for tag in article.find_all('p')]:\n",
    "            if re.findall(\"[.,!?]\", paragraph):\n",
    "                text.append(paragraph)\n",
    "    text = re.sub(r\"\\s+\", \" \", \" \".join(text))\n",
    "\n",
    "    return text"
   ]
  },
  {
   "cell_type": "markdown",
   "metadata": {},
   "source": [
    "The Google news output consists of articles. We therefore need code to iterate over all article data elements and collect the data. The next code shows how we aggregate the content and meta information for each article, where we apply the above functions to obtain the author and the text from the content obtained from the URL. We break the loop after the first iteration."
   ]
  },
  {
   "cell_type": "code",
   "execution_count": 6,
   "metadata": {},
   "outputs": [
    {
     "name": "stdout",
     "output_type": "stream",
     "text": [
      "['https://finance.yahoo.com/news/vaccines-anti-vax-debate-135125026.html', '20191015T135100', 'en', '', 'Yahoo Finance', \"'A victim of their own success': How vaccines became a casualty of misinformation in the U.S.\", \"Measles, a highly contagious disease, was declared eliminated from the United States in 2000. However, over the last decade, there have been over 3,000 measles cases across the country, which has brought the disease back into focus. Much of it is because of low immunization rates as a result of vaccine misinformation, according to many medical experts. “I think vaccines are honestly a victim of their own success,” Dr. Paul Offit, professor of pediatrics at the Hospital of Philadelphia, told Yahoo Finance. “I was a child in the ‘50s and ‘60s. I had measles, I had mumps, I had rubella, I had chicken pox. I know what all those diseases felt like, but my children … [don’t] see these diseases today. And I think for some people they’re thinking, why do I need a polio vaccine? Why do I need a diphtheria vaccine?” From Jan. 1, 2019 to Oct. 3, 2019, there have been 1,250 individual cases of measles across 31 states, according to CDC data. This is the largest number of cases since 1992, and more than 75% of them are linked to outbreaks in New York. By contrast, there were just 63 cases of measles in 2010. Over the course of the past year, New York City was hit with a measles outbreak that was heavily concentrated in the ultra-Orthodox Jewish community. This began in October 2018 after a child who visited Israel unwittingly spread the virus through the Bensonhurst neighborhood of Brooklyn. Many members of that community were unvaccinated. “There are certain diseases including … measles, when you need a certain level of percentage of people in the community to be vaccinated,” Dr. Anthony Fauci, director of the National Institute of Allergy and Infectious Diseases at the National Institutes of Health (NIH), told Yahoo Finance. “When you get below a certain level, then you wind up diminishing what we call herd immunity, which protects the general community.” Yahoo Finance previously reported how vaccine-preventable diseases, like measles, among adults cost the U.S. nearly $9 billion per year, and unvaccinated individuals account for most of it. According to 2017 data from the CDC, among children aged 19-35 months, 91.1% have received the Measles, Mumps, Rubella (MMR) vaccine, 91.9% have received the polio vaccine, 90.6% have received the chickenpox vaccine, and 83.4% have received the Diphtheria, Tetanus, Pertussis (DTP) vaccine. Measles can often lead to high fevers, pneumonia, brain damage, deafness, and even death. Mumps is a viral infection that can cause the salivary glands to swell and in serious cases, can lead to encephalitis or meningitis, along with hearing loss and heart problems. Rubella, which is also known as the German measles, is more mild than measles and mumps. Symptoms include a fever, pink rash, and enlarged lymph nodes. The CDC has declared rubella eliminated because of the MMR vaccine. “The measles vaccine is about 97% to 98% effective,” Fauci said. Yet, recent outbreaks have indicated that vaccine misinformation is still an issue in the country, part of a movement by anti-vaxxers, who claim that vaccines do more harm than good. One notable figure behind this movement is environmental activist Robert F. Kennedy, Jr. “I’m not anti-vaccine; I’m pro-science, I’m pro-safety,” Kennedy told Yahoo Finance. “I want people to be as safe as possible and I don’t want them to take a vaccine that could kill them. In many cases, the vaccines appear to be doing far more damage and causing far more deaths than the original disease was doing prior to the event of the introduction of the vaccine …. None of the 72 vaccines that are mandated have ever been tested for safety.” That’s not an accurate assessment, however. The Food & Drug Administration (FDA) has a vaccine safety program in place. In order for the agency to approve a vaccine for public use, highly trained FDA scientists and doctors study the vaccine’s safety and effectiveness, and the FDA also inspects every vaccine manufacturing site. One of Kennedy’s main arguments, and that of many other anti-vaxxers, is the supposed link between vaccines and autism. This was debunked 20 years ago, although it still runs rampant in anti-vaxxer communities. For his part, Kennedy contends that scientists have yet to prove that vaccines don’t cause autism. “They don’t exist — no study that shows that vaccines don’t cause autism,” Kennedy said. “What the CDC says is not science.” He believes that the CDC has a pro-pharmaceutical agenda and puts those needs ahead of the general public’s. “Who do you believe?” Kennedy said. “The mom, who says, ‘My kid was completely healthy, I brought him in to get him vaccinated, and he got a brain injury and I checked around and there a million other kids like this.’ You think we should listen to that mom or we should say she's hysterical? Cause that's what the industry wants you to say, she's just hysterical.” For his part, Fauci says, “This idea that [the CDC] has close ties with pharmaceutical companies is just not true.” Before the vaccine was introduced in 1963, approximately 450 to 500 people died from measles each year in the U.S. Globally, there were over 2 million deaths a year before the vaccine. “It’s a dangerous game we play,” Offit said. “I think that to ignore that [measles] is a serious disease is to ignore history.” There were two major points in the last century that were deemed to be “vaccine scares.” In the 1980s, in the U.K., a group of parents claimed that the pertussis (whooping cough) vaccine had caused brain damage in their children. This created a scare so significant that vaccine rates plummeted until medical professionals were able to provide evidence that this was not actually the case. Then, in the 1990s began the concerns that vaccines were linked to autism in children. “In the late 1990s and early 2000s, the concern came from two different bases,” Dorit Reiss, a professor law at the UC Hastings College of Law who focuses in legal issues around vaccines, said. “One, claims made from a British doctor [that] the MMR vaccine caused autism and two, claims made by several American parents that a preservative used in childhood vaccines then, hidrosol, a preservative that contains a metal mercury, was associated with autism.” That doctor was Andrew Wakefield. He and his colleagues published a study alleging the connection in 1998, although the study was retracted in 2010. According to the Children’s Hospital of Philadelphia, “this means that the paper is not part of the scientific record because it was found to be based on scientific misconduct. In this case, the studies were deemed fraudulent and data misrepresented.” Subsequent studies from others in the medical community found no link between the MMR vaccine and autism. “Most claims have since been studied in millions of children, and both claims were shown untrue,” Reiss said. “But they created a scare that’s very hard to fight, even today, even after all the research was done.” Social media doesn’t help — while it can disseminate important correct information, it also is often responsible for spreading false information. “There’s a plus and a minus to the ready availability of information flow,” Fauci said. “But when something that’s incorrect gets into the social media and then goes viral, a certain percentage of people who read it are going to believe it even though it’s blatantly incorrect.” As it stands, each state has some kind of law requiring specific vaccines for its students, but grants exemptions for medical reasons. 45 states and Washington, D.C. grant religious exemptions, and 15 states allow philosophical exemptions. After measles broke out in Rockland County, New York, in October 2018, thousands of MMR vaccines were given out, mainly in the Orthodox Jewish community in the county where the outbreak was particularly prevalent. Ed Day, the Rockland County Executive, is often skeptical of religious exemptions. “If you truly have a religious objection to something, you would never do it,” he said. “This was not religious objections per se,” Day he added. “This was more fear, lack of record keeping, lack of insistence to stay with the law. That’s what the problem was and that’s why it was being corrected because from a variety of strategies, we were able to start seeing an uptick in the immunization rates, especially for our young people.” Religious reasons and misinformation are not the only reasons why some people don’t get vaccinated. It can also be due to lack of health care access. “Perhaps a child will be vulnerable until they go to school when they find out they really have to get vaccinated,” Fauci said. “As opposed to vaccinating the child at the time when they’re a young child, an infant, where you get your series of vaccinations within the first couple of years. If you don’t have access to a good health system, you’re not going to get vaccinated.” Due to the Affordable Care Act (ACA), insurance coverage is mandated for childhood immunizations. For those who are uninsured, there are often federally funded health centers and state health departments that will give vaccines for free, or at low costs. “Before you mandate vaccines, you need to solve access problems,” Reiss said. “You need to make sure the people can get the vaccine because it’s unfair to mandate without providing access.” This is where the federal government can step up, she said. “The federal government can do other things,” Reiss said. “For example, it can provide more money for education about vaccines. They can provide better support for vaccine clinics and other access, each access provisions. It can provide money for research on vaccine hesitancy to better develop ways to handle it.” Until then, vaccine misinformation may very well remain throughout the country. “The goal of a vaccine is to provide the immunity that is a consequence of natural infection without having to pay the price of natural infection,” Offit said. “Sadly, children have to suffer to get our attention … but it really shouldn’t come to that.” According to WHO, nearly 20 million children in 2018 did not receive any measles vaccine — the organization attributes those figures to lack of access, conflict and displacement, and of course, misinformation. “I just think we play a dangerous game … of Russian roulette and although there’s not five empty chambers and one bullet, maybe there was 100,000 empty chambers and one bullet,” Offit said, “but there’s a bullet in there and we better stop playing this game.” Adriana is an associate editor for Yahoo Finance. Follow her on Twitter @adrianambells. These are the healthiest and unhealthiest U.S. cities Follow Yahoo Finance on Twitter, Facebook, Instagram, Flipboard, SmartNews, LinkedIn, YouTube, and reddit.\"]\n"
     ]
    }
   ],
   "source": [
    "# Iterate over all Articles in Google News\n",
    "articles = soup.find_all('article')\n",
    "for i, article in enumerate(articles, 1):    \n",
    "    div, title, publisher = article.find_all('a')\n",
    "    time = re.sub(\"[Z\\-:]\", \"\", article.find('time').get('datetime'))\n",
    "\n",
    "    article_redirect = \"{}{}\".format(base_url, title.get('href')[1:])\n",
    "    article_url = requests.get(article_redirect).url\n",
    "    \n",
    "    news_content= requests.get(article_url).content\n",
    "    author = parse_author(news_content)\n",
    "    news_text = parse_news_text(news_content)\n",
    "    \n",
    "    # new_entry is going to contain the data for each article returned\n",
    "    new_entry = [article_url, \n",
    "                 time, \n",
    "                 language, \n",
    "                 author, \n",
    "                 publisher.text, \n",
    "                 title.text, \n",
    "                 news_text]\n",
    "    print(new_entry)\n",
    "    break\n"
   ]
  },
  {
   "cell_type": "markdown",
   "metadata": {},
   "source": [
    "## 3 Save the search results in a CSV file with the meta data"
   ]
  },
  {
   "cell_type": "markdown",
   "metadata": {},
   "source": [
    "Now we want to store the results for the complete loop in a CSV file so that we can load it later on. To create the output as CSV data, we are going to use the `Pandas` package: https://pandas.pydata.org\n",
    "Please follow the instructions to install pandas locally:\n",
    "\n",
    "* `conda install pandas`\n",
    "* `python -m pip install --upgrade pandas`\n",
    "\n",
    "Consult the documentation to learn more about the functionalities. Here we are going to use it to convert our list of featurures for a tweet to a CSV format.\n",
    "\n",
    "We need to import *os* for writing to a file and *pandas* (after the install) for dealing with the data structure. Take your time to study the next bit of code so that you understand the individual steps. "
   ]
  },
  {
   "cell_type": "markdown",
   "metadata": {},
   "source": [
    "We need to define the columns for the result table. The data need to be stored in the order of the columns."
   ]
  },
  {
   "cell_type": "code",
   "execution_count": 7,
   "metadata": {},
   "outputs": [],
   "source": [
    "COLS = ['url', \n",
    "        'created_at', \n",
    "        'lang', \n",
    "        'author',  \n",
    "        'publisher', \n",
    "        'title', \n",
    "        'news_text']"
   ]
  },
  {
   "cell_type": "markdown",
   "metadata": {},
   "source": [
    "Now we use the same article processing for-loop to obtain the data for each article and store the result in a pandas data frame that we call `all_news_dataframe`."
   ]
  },
  {
   "cell_type": "code",
   "execution_count": null,
   "metadata": {},
   "outputs": [],
   "source": [
    "import os\n",
    "import pandas as pd\n",
    "\n",
    "# We first define a data frame that we name 'all_news_dataframe' \n",
    "# with pandas imported as 'pd' using the columns list that we defined before.\n",
    "# Basically, we tell pandas what data will be stored.\n",
    "\n",
    "data=[]\n",
    "\n",
    "# Iterate over all Articles in Google News\n",
    "articles = soup.find_all('article')\n",
    "for i, article in enumerate(articles, 1):\n",
    "    try:\n",
    "        div, title, publisher = article.find_all('a')\n",
    "        time = re.sub(\"[Z\\-:]\", \"\", article.find('time').get('datetime'))\n",
    "\n",
    "        article_redirect = \"{}{}\".format(base_url, title.get('href')[1:])\n",
    "        ### Since the request call may generate an error from the website it tries to reach\n",
    "        ### We have to catch the error message so that we can continue with the next URL to obtain a result\n",
    "        ### To handle the errors, we create a try and except block. IF there is an error, we print it, otherwise we carry out commands\n",
    "        article_url = requests.get(article_redirect).url\n",
    "        #article_hash = int(abs(hash(article_url)))\n",
    "\n",
    "        news_content= requests.get(article_url).content\n",
    "        author = parse_author(news_content)\n",
    "        news_text = parse_news_text(news_content)\n",
    "\n",
    "        # new_entry is going to contain the data for each article returned\n",
    "        new_entry = [article_url, \n",
    "                     time, \n",
    "                     language, \n",
    "                     author, \n",
    "                     publisher.text, \n",
    "                     title.text, \n",
    "                     news_text]\n",
    "\n",
    "        data.append(new_entry)\n",
    "        # We now completed appending all the possible values for this tweet.\n",
    "        # We use the pandas framework imported as 'pd' to create a dataframe from the aggregated data in new_entry\n",
    "        # We need to provide the columns COLS to tell pandas what value belongs to what.\n",
    "        # Note that the data need to be aggregated in the same order as the names in COLS, otherwise values will get mixed up\n",
    "        #single_article_dataframe = pd.DataFrame([new_entry], columns=COLS)\n",
    "\n",
    "        # single_tweet_dataframe now contains the data for a single tweet\n",
    "        # next we add it to the data frame for all tweets 'all_tweets_dataframe'\n",
    "        # check the pandas documentation if you want to know what ignore_index=True does to the data aggregation\n",
    "        #all_news_dataframe = all_news_dataframe.append(single_article_dataframe, ignore_index=True)\n",
    "    except Exception as e:\n",
    "        print(e)\n",
    "        continue\n",
    "all_news_dataframe = pd.DataFrame(data, columns=COLS)"
   ]
  },
  {
   "cell_type": "markdown",
   "metadata": {},
   "source": [
    "When running the code, you may see a whole batch of error messages. Most likely, these are due to websites that cannot be reached. Basically, we fail to collect the data from the site. Still, some of the sites could be reached."
   ]
  },
  {
   "cell_type": "markdown",
   "metadata": {},
   "source": [
    "Our data frame basically is a table with columns and rows. We use the `shape` function to ask for the number of rows and columns."
   ]
  },
  {
   "cell_type": "code",
   "execution_count": null,
   "metadata": {},
   "outputs": [],
   "source": [
    "print(all_news_dataframe.shape)"
   ]
  },
  {
   "cell_type": "markdown",
   "metadata": {},
   "source": [
    "Through the *pandas* framework, we can now save it to a CSV file."
   ]
  },
  {
   "cell_type": "code",
   "execution_count": null,
   "metadata": {},
   "outputs": [],
   "source": [
    "# We define a file path to store the results as CSV. Make sure the folder 'googlenews_search_results' exists \n",
    "# or that you specify another path to an existing location. The 'news_results_<query>.csv' file will be created in that location.\n",
    "csvFilePath='googlenews_search_results/news_results_%s.csv' % query\n",
    "\n",
    "# we now open the csvFile for appending our result\n",
    "csvFile = open(csvFilePath,\"w+\")       \n",
    "all_news_dataframe.to_csv(csvFile, columns=COLS, index=False)"
   ]
  },
  {
   "cell_type": "markdown",
   "metadata": {},
   "source": [
    "Unfortunately, the Google News API is no longer maintained. It is still running but it is not known for how long:\n",
    "\n",
    "https://medium.com/rakuten-rapidapi/top-10-best-news-apis-google-news-bloomberg-bing-news-and-more-bbf3e6e46af6\n",
    "\n",
    "\n",
    "In the next notebook Lab1.5, we show how you can access other news sources directly."
   ]
  },
  {
   "cell_type": "markdown",
   "metadata": {},
   "source": [
    "## End of this notebook"
   ]
  },
  {
   "cell_type": "code",
   "execution_count": null,
   "metadata": {},
   "outputs": [],
   "source": []
  }
 ],
 "metadata": {
  "kernelspec": {
   "display_name": "Python 3",
   "language": "python",
   "name": "python3"
  },
  "language_info": {
   "codemirror_mode": {
    "name": "ipython",
    "version": 3
   },
   "file_extension": ".py",
   "mimetype": "text/x-python",
   "name": "python",
   "nbconvert_exporter": "python",
   "pygments_lexer": "ipython3",
   "version": "3.7.3"
  }
 },
 "nbformat": 4,
 "nbformat_minor": 4
}
