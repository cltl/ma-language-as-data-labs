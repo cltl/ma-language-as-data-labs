{
 "cells": [
  {
   "cell_type": "markdown",
   "metadata": {},
   "source": [
    "# Lab1.5 New York Times news API"
   ]
  },
  {
   "cell_type": "markdown",
   "metadata": {},
   "source": [
    "Copyright: Vrije Universiteit Amsterdam, Faculty of Humanities, CLTL"
   ]
  },
  {
   "cell_type": "markdown",
   "metadata": {},
   "source": [
    "The New York Times provides a search API to access various news sources:\n",
    "\n",
    "https://developer.nytimes.com\n",
    "\n",
    "In this notebook, we are going to see how their API library can be used to obtain news for your keyword search, how you can set filters and how to obtain meta data and the text to save it.\n",
    "\n",
    "Credits:\n",
    "We thank the blog from Rochelle Terman from which we re-used some code and explanation:\n",
    "https://dlab.berkeley.edu/blog/scraping-new-york-times-articles-python-tutorial"
   ]
  },
  {
   "cell_type": "markdown",
   "metadata": {},
   "source": [
    "## 1. Preparations for using the NYT news API"
   ]
  },
  {
   "cell_type": "markdown",
   "metadata": {},
   "source": [
    "In order to access the nes stream and the archives, you first need to install the package *nytimesarticle* locally on your computer on command line:\n",
    "\n",
    "https://pypi.org/project/nytimesarticle/0.1.0/\n",
    "\n",
    "'pip install nytimesarticle==0.1.0'\n",
    "\n",
    "*nytimesarticle* is a python wrapper for the New York Times Article Search API. This allows you to query the API through python. \n",
    "\n",
    "With the Article Search API, you can search New York Times articles from Sept. 18, 1851 to today, retrieving headlines, abstracts, lead paragraphs, links to associated multimedia and other article metadata.\n",
    "\n",
    "The API will not return full text of articles. But it will return a number of helpful metadata such as subject terms, abstract, and date, as well as URLs, which one could conceivably use to scrape the full text of articles.\n",
    "\n",
    "To begin, you first need to obtain an API key from the New York Times, which is fast and easy to do: https://developer.nytimes.com/get-started\n",
    "\n",
    "* create an account\n",
    "* login\n",
    "* create app\n",
    "* get the id and key\n",
    "\n",
    "Once you have the key you can start using the API. \n",
    "\n",
    "In the code below, we already created an key for an application that we called *LanguageAsData*. The application was defined for the Archive API and the Article Search API. You can choose the key below or define your own application and API. Note that if too many people use the key given below, the calls could be blocked. In that case, you need to follow the instructions to obtain your own account, create you App and get the credentials.\n",
    "\n",
    "Below is the code to create an API client that we call *api*."
   ]
  },
  {
   "cell_type": "markdown",
   "metadata": {},
   "source": [
    "## 2. Using the Search API"
   ]
  },
  {
   "cell_type": "code",
   "execution_count": 1,
   "metadata": {},
   "outputs": [],
   "source": [
    "from nytimesarticle import articleAPI\n",
    "\n",
    "app='LanguageAsData'\n",
    "appId='9a81707d-bc58-4f34-a69b-77681c2facc0'\n",
    "appKey='AoT94xb4XOlfyNSV2MkIGpihZsPCktxb'\n",
    "api = articleAPI(appKey)"
   ]
  },
  {
   "cell_type": "markdown",
   "metadata": {},
   "source": [
    "We can use the *api.search()* function to launch our query. It takes various parameters of which we illustrate a few."
   ]
  },
  {
   "cell_type": "code",
   "execution_count": 2,
   "metadata": {},
   "outputs": [],
   "source": [
    "query=\"vaccination\"\n",
    "beginDate=20151231\n",
    "endDate=20181231\n",
    "filter={'source':['Reuters','AP', 'The New York Times']}\n",
    "filter={'source':['Reuters','AP']}\n",
    "\n",
    "\n",
    "articles = api.search(q = query,\n",
    "                      fq = str(filter), \n",
    "                      begin_date = beginDate, \n",
    "                      end_date= endDate)\n"
   ]
  },
  {
   "cell_type": "markdown",
   "metadata": {},
   "source": [
    "The q (for query) parameter searches the article's body, headline and byline for a particular term. In this case, we are looking for the search term ‘vaccins’. The fq (for filter query) parameter filters search results by various dimensions. For instance, 'source':['Reuters','The New York Times'] will filter by source (Reuters, New York Times, and AP are available through the API.) The begin_date and end_date parameter (in YYYYMMDD format) limits the date range of the search.\n",
    "\n",
    "As you can see, we can specify multiple filters by using a python dictionary and multiple values by using a list: fq = {'source':['Reuters','AP', 'The New York Times']}\n",
    "\n",
    "There are many other parameters and filters we can use to specify our serach. Get a full list here."
   ]
  },
  {
   "cell_type": "markdown",
   "metadata": {},
   "source": [
    "The output of the search is a dictionary that has the following keys:"
   ]
  },
  {
   "cell_type": "code",
   "execution_count": 3,
   "metadata": {},
   "outputs": [
    {
     "name": "stdout",
     "output_type": "stream",
     "text": [
      "dict_keys(['status', 'copyright', 'response'])\n"
     ]
    }
   ],
   "source": [
    "print(articles.keys())"
   ]
  },
  {
   "cell_type": "markdown",
   "metadata": {},
   "source": [
    "We are interested in the 'response', which contains a dictionary with 'docs' with the actual content as a list. The next command show the first element from the list."
   ]
  },
  {
   "cell_type": "code",
   "execution_count": 4,
   "metadata": {},
   "outputs": [
    {
     "name": "stdout",
     "output_type": "stream",
     "text": [
      "{'web_url': 'https://www.nytimes.com/2018/10/16/health/child-flu-death-florida.html', 'snippet': 'A child who had not gotten the flu shot tested positive for influenza B, state health officials said. The flu season has just begun, and flu activity remains low across the country.', 'lead_paragraph': 'A child in Florida who had not received the flu vaccine died from the virus, state officials announced on Monday, the first influenza-related pediatric death reported in the country this flu season.', 'abstract': 'A child who had not gotten the flu shot tested positive for influenza B, state health officials said. The flu season has just begun, and flu activity remains low across the country.', 'print_page': '15', 'source': 'The New York Times', 'multimedia': [{'rank': 0, 'subtype': 'xlarge', 'caption': None, 'credit': None, 'type': 'image', 'url': 'images/2018/10/16/us/17xp-flu/17xp-flu-articleLarge.jpg', 'height': 400, 'width': 600, 'legacy': {'xlarge': 'images/2018/10/16/us/17xp-flu/17xp-flu-articleLarge.jpg', 'xlargewidth': 600, 'xlargeheight': 400}, 'subType': 'xlarge', 'crop_name': 'articleLarge'}, {'rank': 0, 'subtype': 'popup', 'caption': None, 'credit': None, 'type': 'image', 'url': 'images/2018/10/16/us/17xp-flu/17xp-flu-popup.jpg', 'height': 433, 'width': 650, 'legacy': {}, 'subType': 'popup', 'crop_name': 'popup'}, {'rank': 0, 'subtype': 'blog480', 'caption': None, 'credit': None, 'type': 'image', 'url': 'images/2018/10/16/us/17xp-flu/17xp-flu-blog480.jpg', 'height': 320, 'width': 480, 'legacy': {}, 'subType': 'blog480', 'crop_name': 'blog480'}, {'rank': 0, 'subtype': 'blog533', 'caption': None, 'credit': None, 'type': 'image', 'url': 'images/2018/10/16/us/17xp-flu/17xp-flu-blog533.jpg', 'height': 355, 'width': 533, 'legacy': {}, 'subType': 'blog533', 'crop_name': 'blog533'}, {'rank': 0, 'subtype': 'blog427', 'caption': None, 'credit': None, 'type': 'image', 'url': 'images/2018/10/16/us/17xp-flu/17xp-flu-blog427.jpg', 'height': 285, 'width': 427, 'legacy': {}, 'subType': 'blog427', 'crop_name': 'blog427'}, {'rank': 0, 'subtype': 'tmagSF', 'caption': None, 'credit': None, 'type': 'image', 'url': 'images/2018/10/16/us/17xp-flu/17xp-flu-tmagSF.jpg', 'height': 241, 'width': 362, 'legacy': {}, 'subType': 'tmagSF', 'crop_name': 'tmagSF'}, {'rank': 0, 'subtype': 'tmagArticle', 'caption': None, 'credit': None, 'type': 'image', 'url': 'images/2018/10/16/us/17xp-flu/17xp-flu-tmagArticle.jpg', 'height': 395, 'width': 592, 'legacy': {}, 'subType': 'tmagArticle', 'crop_name': 'tmagArticle'}, {'rank': 0, 'subtype': 'slide', 'caption': None, 'credit': None, 'type': 'image', 'url': 'images/2018/10/16/us/17xp-flu/17xp-flu-slide.jpg', 'height': 400, 'width': 600, 'legacy': {}, 'subType': 'slide', 'crop_name': 'slide'}, {'rank': 0, 'subtype': 'jumbo', 'caption': None, 'credit': None, 'type': 'image', 'url': 'images/2018/10/16/us/17xp-flu/17xp-flu-jumbo.jpg', 'height': 683, 'width': 1024, 'legacy': {}, 'subType': 'jumbo', 'crop_name': 'jumbo'}, {'rank': 0, 'subtype': 'superJumbo', 'caption': None, 'credit': None, 'type': 'image', 'url': 'images/2018/10/16/us/17xp-flu/17xp-flu-superJumbo.jpg', 'height': 1365, 'width': 2048, 'legacy': {}, 'subType': 'superJumbo', 'crop_name': 'superJumbo'}, {'rank': 0, 'subtype': 'blog225', 'caption': None, 'credit': None, 'type': 'image', 'url': 'images/2018/10/16/us/17xp-flu/17xp-flu-blog225.jpg', 'height': 150, 'width': 225, 'legacy': {}, 'subType': 'blog225', 'crop_name': 'blog225'}, {'rank': 0, 'subtype': 'master1050', 'caption': None, 'credit': None, 'type': 'image', 'url': 'images/2018/10/16/us/17xp-flu/17xp-flu-master1050.jpg', 'height': 700, 'width': 1050, 'legacy': {}, 'subType': 'master1050', 'crop_name': 'master1050'}, {'rank': 0, 'subtype': 'master675', 'caption': None, 'credit': None, 'type': 'image', 'url': 'images/2018/10/16/us/17xp-flu/17xp-flu-master675.jpg', 'height': 450, 'width': 675, 'legacy': {}, 'subType': 'master675', 'crop_name': 'master675'}, {'rank': 0, 'subtype': 'master495', 'caption': None, 'credit': None, 'type': 'image', 'url': 'images/2018/10/16/us/17xp-flu/17xp-flu-master495.jpg', 'height': 330, 'width': 495, 'legacy': {}, 'subType': 'master495', 'crop_name': 'master495'}, {'rank': 0, 'subtype': 'master180', 'caption': None, 'credit': None, 'type': 'image', 'url': 'images/2018/10/16/us/17xp-flu/17xp-flu-master180.jpg', 'height': 120, 'width': 180, 'legacy': {}, 'subType': 'master180', 'crop_name': 'master180'}, {'rank': 0, 'subtype': 'master315', 'caption': None, 'credit': None, 'type': 'image', 'url': 'images/2018/10/16/us/17xp-flu/17xp-flu-master315.jpg', 'height': 210, 'width': 315, 'legacy': {}, 'subType': 'master315', 'crop_name': 'master315'}, {'rank': 0, 'subtype': 'master768', 'caption': None, 'credit': None, 'type': 'image', 'url': 'images/2018/10/16/us/17xp-flu/17xp-flu-master768.jpg', 'height': 512, 'width': 768, 'legacy': {}, 'subType': 'master768', 'crop_name': 'master768'}, {'rank': 0, 'subtype': 'thumbnail', 'caption': None, 'credit': None, 'type': 'image', 'url': 'images/2018/10/16/us/17xp-flu/17xp-flu-thumbStandard.jpg', 'height': 75, 'width': 75, 'legacy': {'thumbnail': 'images/2018/10/16/us/17xp-flu/17xp-flu-thumbStandard.jpg', 'thumbnailwidth': 75, 'thumbnailheight': 75}, 'subType': 'thumbnail', 'crop_name': 'thumbStandard'}, {'rank': 0, 'subtype': 'blogSmallThumb', 'caption': None, 'credit': None, 'type': 'image', 'url': 'images/2018/10/16/us/17xp-flu/17xp-flu-blogSmallThumb.jpg', 'height': 50, 'width': 50, 'legacy': {}, 'subType': 'blogSmallThumb', 'crop_name': 'blogSmallThumb'}, {'rank': 0, 'subtype': 'thumbLarge', 'caption': None, 'credit': None, 'type': 'image', 'url': 'images/2018/10/16/us/17xp-flu/17xp-flu-thumbLarge.jpg', 'height': 150, 'width': 150, 'legacy': {}, 'subType': 'thumbLarge', 'crop_name': 'thumbLarge'}, {'rank': 0, 'subtype': 'smallSquare168', 'caption': None, 'credit': None, 'type': 'image', 'url': 'images/2018/10/16/us/17xp-flu/17xp-flu-smallSquare168.jpg', 'height': 168, 'width': 168, 'legacy': {}, 'subType': 'smallSquare168', 'crop_name': 'smallSquare168'}, {'rank': 0, 'subtype': 'smallSquare252', 'caption': None, 'credit': None, 'type': 'image', 'url': 'images/2018/10/16/us/17xp-flu/17xp-flu-smallSquare252.jpg', 'height': 252, 'width': 252, 'legacy': {}, 'subType': 'smallSquare252', 'crop_name': 'smallSquare252'}, {'rank': 0, 'subtype': 'square320', 'caption': None, 'credit': None, 'type': 'image', 'url': 'images/2018/10/16/us/17xp-flu/17xp-flu-square320.jpg', 'height': 320, 'width': 320, 'legacy': {}, 'subType': 'square320', 'crop_name': 'square320'}, {'rank': 0, 'subtype': 'moth', 'caption': None, 'credit': None, 'type': 'image', 'url': 'images/2018/10/16/us/17xp-flu/17xp-flu-moth.jpg', 'height': 151, 'width': 151, 'legacy': {}, 'subType': 'moth', 'crop_name': 'moth'}, {'rank': 0, 'subtype': 'filmstrip', 'caption': None, 'credit': None, 'type': 'image', 'url': 'images/2018/10/16/us/17xp-flu/17xp-flu-filmstrip.jpg', 'height': 190, 'width': 190, 'legacy': {}, 'subType': 'filmstrip', 'crop_name': 'filmstrip'}, {'rank': 0, 'subtype': 'square640', 'caption': None, 'credit': None, 'type': 'image', 'url': 'images/2018/10/16/us/17xp-flu/17xp-flu-square640.jpg', 'height': 640, 'width': 640, 'legacy': {}, 'subType': 'square640', 'crop_name': 'square640'}, {'rank': 0, 'subtype': 'mediumSquare149', 'caption': None, 'credit': None, 'type': 'image', 'url': 'images/2018/10/16/us/17xp-flu/17xp-flu-mediumSquare149.jpg', 'height': 149, 'width': 149, 'legacy': {}, 'subType': 'mediumSquare149', 'crop_name': 'mediumSquare149'}, {'rank': 0, 'subtype': 'sfSpan', 'caption': None, 'credit': None, 'type': 'image', 'url': 'images/2018/10/16/us/17xp-flu/17xp-flu-sfSpan.jpg', 'height': 263, 'width': 395, 'legacy': {}, 'subType': 'sfSpan', 'crop_name': 'sfSpan'}, {'rank': 0, 'subtype': 'largeHorizontal375', 'caption': None, 'credit': None, 'type': 'image', 'url': 'images/2018/10/16/us/17xp-flu/17xp-flu-largeHorizontal375.jpg', 'height': 250, 'width': 375, 'legacy': {}, 'subType': 'largeHorizontal375', 'crop_name': 'largeHorizontal375'}, {'rank': 0, 'subtype': 'largeHorizontalJumbo', 'caption': None, 'credit': None, 'type': 'image', 'url': 'images/2018/10/16/us/17xp-flu/17xp-flu-largeHorizontalJumbo.jpg', 'height': 683, 'width': 1024, 'legacy': {}, 'subType': 'largeHorizontalJumbo', 'crop_name': 'largeHorizontalJumbo'}, {'rank': 0, 'subtype': 'horizontalMediumAt2X', 'caption': None, 'credit': None, 'type': 'image', 'url': 'images/2018/10/16/us/17xp-flu/17xp-flu-horizontalMediumAt2X.jpg', 'height': 2000, 'width': 3000, 'legacy': {}, 'subType': 'horizontalMediumAt2X', 'crop_name': 'horizontalMediumAt2X'}, {'rank': 0, 'subtype': 'hpLarge', 'caption': None, 'credit': None, 'type': 'image', 'url': 'images/2018/10/16/us/17xp-flu/17xp-flu-hpLarge.jpg', 'height': 288, 'width': 511, 'legacy': {}, 'subType': 'hpLarge', 'crop_name': 'hpLarge'}, {'rank': 0, 'subtype': 'largeWidescreen573', 'caption': None, 'credit': None, 'type': 'image', 'url': 'images/2018/10/16/us/17xp-flu/17xp-flu-largeWidescreen573.jpg', 'height': 322, 'width': 573, 'legacy': {}, 'subType': 'largeWidescreen573', 'crop_name': 'largeWidescreen573'}, {'rank': 0, 'subtype': 'largeWidescreen1050', 'caption': None, 'credit': None, 'type': 'image', 'url': 'images/2018/10/16/us/17xp-flu/17xp-flu-largeWidescreen1050.jpg', 'height': 591, 'width': 1050, 'legacy': {}, 'subType': 'largeWidescreen1050', 'crop_name': 'largeWidescreen1050'}, {'rank': 0, 'subtype': 'wide', 'caption': None, 'credit': None, 'type': 'image', 'url': 'images/2018/10/16/us/17xp-flu/17xp-flu-thumbWide.jpg', 'height': 126, 'width': 190, 'legacy': {'widewidth': 190, 'wideheight': 126, 'wide': 'images/2018/10/16/us/17xp-flu/17xp-flu-thumbWide.jpg'}, 'subType': 'wide', 'crop_name': 'thumbWide'}, {'rank': 0, 'subtype': 'videoThumb', 'caption': None, 'credit': None, 'type': 'image', 'url': 'images/2018/10/16/us/17xp-flu/17xp-flu-videoThumb.jpg', 'height': 50, 'width': 75, 'legacy': {}, 'subType': 'videoThumb', 'crop_name': 'videoThumb'}, {'rank': 0, 'subtype': 'videoLarge', 'caption': None, 'credit': None, 'type': 'image', 'url': 'images/2018/10/16/us/17xp-flu/17xp-flu-videoLarge.jpg', 'height': 507, 'width': 768, 'legacy': {}, 'subType': 'videoLarge', 'crop_name': 'videoLarge'}, {'rank': 0, 'subtype': 'mediumThreeByTwo210', 'caption': None, 'credit': None, 'type': 'image', 'url': 'images/2018/10/16/us/17xp-flu/17xp-flu-mediumThreeByTwo210.jpg', 'height': 140, 'width': 210, 'legacy': {}, 'subType': 'mediumThreeByTwo210', 'crop_name': 'mediumThreeByTwo210'}, {'rank': 0, 'subtype': 'mediumThreeByTwo225', 'caption': None, 'credit': None, 'type': 'image', 'url': 'images/2018/10/16/us/17xp-flu/17xp-flu-mediumThreeByTwo225.jpg', 'height': 150, 'width': 225, 'legacy': {}, 'subType': 'mediumThreeByTwo225', 'crop_name': 'mediumThreeByTwo225'}, {'rank': 0, 'subtype': 'mediumThreeByTwo440', 'caption': None, 'credit': None, 'type': 'image', 'url': 'images/2018/10/16/us/17xp-flu/17xp-flu-mediumThreeByTwo440.jpg', 'height': 293, 'width': 440, 'legacy': {}, 'subType': 'mediumThreeByTwo440', 'crop_name': 'mediumThreeByTwo440'}, {'rank': 0, 'subtype': 'mediumThreeByTwo252', 'caption': None, 'credit': None, 'type': 'image', 'url': 'images/2018/10/16/us/17xp-flu/17xp-flu-mediumThreeByTwo252.jpg', 'height': 168, 'width': 252, 'legacy': {}, 'subType': 'mediumThreeByTwo252', 'crop_name': 'mediumThreeByTwo252'}, {'rank': 0, 'subtype': 'mediumThreeByTwo378', 'caption': None, 'credit': None, 'type': 'image', 'url': 'images/2018/10/16/us/17xp-flu/17xp-flu-mediumThreeByTwo378.jpg', 'height': 252, 'width': 378, 'legacy': {}, 'subType': 'mediumThreeByTwo378', 'crop_name': 'mediumThreeByTwo378'}, {'rank': 0, 'subtype': 'threeByTwoLargeAt2X', 'caption': None, 'credit': None, 'type': 'image', 'url': 'images/2018/10/16/us/17xp-flu/17xp-flu-threeByTwoLargeAt2X.jpg', 'height': 1530, 'width': 2295, 'legacy': {}, 'subType': 'threeByTwoLargeAt2X', 'crop_name': 'threeByTwoLargeAt2X'}, {'rank': 0, 'subtype': 'threeByTwoMediumAt2X', 'caption': None, 'credit': None, 'type': 'image', 'url': 'images/2018/10/16/us/17xp-flu/17xp-flu-threeByTwoMediumAt2X.jpg', 'height': 1000, 'width': 1500, 'legacy': {}, 'subType': 'threeByTwoMediumAt2X', 'crop_name': 'threeByTwoMediumAt2X'}, {'rank': 0, 'subtype': 'threeByTwoSmallAt2X', 'caption': None, 'credit': None, 'type': 'image', 'url': 'images/2018/10/16/us/17xp-flu/17xp-flu-threeByTwoSmallAt2X.jpg', 'height': 400, 'width': 600, 'legacy': {}, 'subType': 'threeByTwoSmallAt2X', 'crop_name': 'threeByTwoSmallAt2X'}, {'rank': 0, 'subtype': 'articleInline', 'caption': None, 'credit': None, 'type': 'image', 'url': 'images/2018/10/16/us/17xp-flu/17xp-flu-articleInline.jpg', 'height': 127, 'width': 190, 'legacy': {}, 'subType': 'articleInline', 'crop_name': 'articleInline'}, {'rank': 0, 'subtype': 'hpSmall', 'caption': None, 'credit': None, 'type': 'image', 'url': 'images/2018/10/16/us/17xp-flu/17xp-flu-hpSmall.jpg', 'height': 109, 'width': 163, 'legacy': {}, 'subType': 'hpSmall', 'crop_name': 'hpSmall'}, {'rank': 0, 'subtype': 'blogSmallInline', 'caption': None, 'credit': None, 'type': 'image', 'url': 'images/2018/10/16/us/17xp-flu/17xp-flu-blogSmallInline.jpg', 'height': 101, 'width': 151, 'legacy': {}, 'subType': 'blogSmallInline', 'crop_name': 'blogSmallInline'}, {'rank': 0, 'subtype': 'mediumFlexible177', 'caption': None, 'credit': None, 'type': 'image', 'url': 'images/2018/10/16/us/17xp-flu/17xp-flu-mediumFlexible177.jpg', 'height': 118, 'width': 177, 'legacy': {}, 'subType': 'mediumFlexible177', 'crop_name': 'mediumFlexible177'}, {'rank': 0, 'subtype': 'videoSmall', 'caption': None, 'credit': None, 'type': 'image', 'url': 'images/2018/10/16/us/17xp-flu/17xp-flu-videoSmall.jpg', 'height': 281, 'width': 500, 'legacy': {}, 'subType': 'videoSmall', 'crop_name': 'videoSmall'}, {'rank': 0, 'subtype': 'videoHpMedium', 'caption': None, 'credit': None, 'type': 'image', 'url': 'images/2018/10/16/us/17xp-flu/17xp-flu-videoHpMedium.jpg', 'height': 211, 'width': 375, 'legacy': {}, 'subType': 'videoHpMedium', 'crop_name': 'videoHpMedium'}, {'rank': 0, 'subtype': 'videoSixteenByNine600', 'caption': None, 'credit': None, 'type': 'image', 'url': 'images/2018/10/16/us/17xp-flu/17xp-flu-videoSixteenByNine600.jpg', 'height': 338, 'width': 600, 'legacy': {}, 'subType': 'videoSixteenByNine600', 'crop_name': 'videoSixteenByNine600'}, {'rank': 0, 'subtype': 'videoSixteenByNine540', 'caption': None, 'credit': None, 'type': 'image', 'url': 'images/2018/10/16/us/17xp-flu/17xp-flu-videoSixteenByNine540.jpg', 'height': 304, 'width': 540, 'legacy': {}, 'subType': 'videoSixteenByNine540', 'crop_name': 'videoSixteenByNine540'}, {'rank': 0, 'subtype': 'videoSixteenByNine495', 'caption': None, 'credit': None, 'type': 'image', 'url': 'images/2018/10/16/us/17xp-flu/17xp-flu-videoSixteenByNine495.jpg', 'height': 278, 'width': 495, 'legacy': {}, 'subType': 'videoSixteenByNine495', 'crop_name': 'videoSixteenByNine495'}, {'rank': 0, 'subtype': 'videoSixteenByNine390', 'caption': None, 'credit': None, 'type': 'image', 'url': 'images/2018/10/16/us/17xp-flu/17xp-flu-videoSixteenByNine390.jpg', 'height': 219, 'width': 390, 'legacy': {}, 'subType': 'videoSixteenByNine390', 'crop_name': 'videoSixteenByNine390'}, {'rank': 0, 'subtype': 'videoSixteenByNine1050', 'caption': None, 'credit': None, 'type': 'image', 'url': 'images/2018/10/16/us/17xp-flu/17xp-flu-videoSixteenByNine1050.jpg', 'height': 591, 'width': 1050, 'legacy': {}, 'subType': 'videoSixteenByNine1050', 'crop_name': 'videoSixteenByNine1050'}, {'rank': 0, 'subtype': 'videoSixteenByNine480', 'caption': None, 'credit': None, 'type': 'image', 'url': 'images/2018/10/16/us/17xp-flu/17xp-flu-videoSixteenByNine480.jpg', 'height': 270, 'width': 480, 'legacy': {}, 'subType': 'videoSixteenByNine480', 'crop_name': 'videoSixteenByNine480'}, {'rank': 0, 'subtype': 'videoSixteenByNine310', 'caption': None, 'credit': None, 'type': 'image', 'url': 'images/2018/10/16/us/17xp-flu/17xp-flu-videoSixteenByNine310.jpg', 'height': 174, 'width': 310, 'legacy': {}, 'subType': 'videoSixteenByNine310', 'crop_name': 'videoSixteenByNine310'}, {'rank': 0, 'subtype': 'videoSixteenByNine225', 'caption': None, 'credit': None, 'type': 'image', 'url': 'images/2018/10/16/us/17xp-flu/17xp-flu-videoSixteenByNine225.jpg', 'height': 126, 'width': 225, 'legacy': {}, 'subType': 'videoSixteenByNine225', 'crop_name': 'videoSixteenByNine225'}, {'rank': 0, 'subtype': 'videoSixteenByNine96', 'caption': None, 'credit': None, 'type': 'image', 'url': 'images/2018/10/16/us/17xp-flu/17xp-flu-videoSixteenByNine96.jpg', 'height': 54, 'width': 96, 'legacy': {}, 'subType': 'videoSixteenByNine96', 'crop_name': 'videoSixteenByNine96'}, {'rank': 0, 'subtype': 'videoSixteenByNine3000', 'caption': None, 'credit': None, 'type': 'image', 'url': 'images/2018/10/16/us/17xp-flu/17xp-flu-videoSixteenByNine3000.jpg', 'height': 1688, 'width': 3000, 'legacy': {}, 'subType': 'videoSixteenByNine3000', 'crop_name': 'videoSixteenByNine3000'}, {'rank': 0, 'subtype': 'videoSixteenByNine768', 'caption': None, 'credit': None, 'type': 'image', 'url': 'images/2018/10/16/us/17xp-flu/17xp-flu-videoSixteenByNine768.jpg', 'height': 432, 'width': 768, 'legacy': {}, 'subType': 'videoSixteenByNine768', 'crop_name': 'videoSixteenByNine768'}, {'rank': 0, 'subtype': 'videoSixteenByNine150', 'caption': None, 'credit': None, 'type': 'image', 'url': 'images/2018/10/16/us/17xp-flu/17xp-flu-videoSixteenByNine150.jpg', 'height': 84, 'width': 150, 'legacy': {}, 'subType': 'videoSixteenByNine150', 'crop_name': 'videoSixteenByNine150'}, {'rank': 0, 'subtype': 'videoSixteenByNineJumbo1600', 'caption': None, 'credit': None, 'type': 'image', 'url': 'images/2018/10/16/us/17xp-flu/17xp-flu-videoSixteenByNineJumbo1600.jpg', 'height': 900, 'width': 1600, 'legacy': {}, 'subType': 'videoSixteenByNineJumbo1600', 'crop_name': 'videoSixteenByNineJumbo1600'}, {'rank': 0, 'subtype': 'miniMoth', 'caption': None, 'credit': None, 'type': 'image', 'url': 'images/2018/10/16/us/17xp-flu/17xp-flu-miniMoth.jpg', 'height': 70, 'width': 151, 'legacy': {}, 'subType': 'miniMoth', 'crop_name': 'miniMoth'}, {'rank': 0, 'subtype': 'windowsTile336H', 'caption': None, 'credit': None, 'type': 'image', 'url': 'images/2018/10/16/us/17xp-flu/17xp-flu-windowsTile336H.jpg', 'height': 336, 'width': 694, 'legacy': {}, 'subType': 'windowsTile336H', 'crop_name': 'windowsTile336H'}, {'rank': 0, 'subtype': 'videoFifteenBySeven1305', 'caption': None, 'credit': None, 'type': 'image', 'url': 'images/2018/10/16/us/17xp-flu/17xp-flu-videoFifteenBySeven1305.jpg', 'height': 609, 'width': 1305, 'legacy': {}, 'subType': 'videoFifteenBySeven1305', 'crop_name': 'videoFifteenBySeven1305'}, {'rank': 0, 'subtype': 'videoFifteenBySeven2610', 'caption': None, 'credit': None, 'type': 'image', 'url': 'images/2018/10/16/us/17xp-flu/17xp-flu-videoFifteenBySeven2610.jpg', 'height': 1218, 'width': 2610, 'legacy': {}, 'subType': 'videoFifteenBySeven2610', 'crop_name': 'videoFifteenBySeven2610'}, {'rank': 0, 'subtype': 'facebookJumbo', 'caption': None, 'credit': None, 'type': 'image', 'url': 'images/2018/10/16/us/17xp-flu/17xp-flu-facebookJumbo.jpg', 'height': 550, 'width': 1050, 'legacy': {}, 'subType': 'facebookJumbo', 'crop_name': 'facebookJumbo'}, {'rank': 0, 'subtype': 'watch308', 'caption': None, 'credit': None, 'type': 'image', 'url': 'images/2018/10/16/us/17xp-flu/17xp-flu-watch308.jpg', 'height': 348, 'width': 312, 'legacy': {}, 'subType': 'watch308', 'crop_name': 'watch308'}, {'rank': 0, 'subtype': 'watch268', 'caption': None, 'credit': None, 'type': 'image', 'url': 'images/2018/10/16/us/17xp-flu/17xp-flu-watch268.jpg', 'height': 303, 'width': 272, 'legacy': {}, 'subType': 'watch268', 'crop_name': 'watch268'}, {'rank': 0, 'subtype': 'verticalTwoByThree735', 'caption': None, 'credit': None, 'type': 'image', 'url': 'images/2018/10/16/us/17xp-flu/17xp-flu-verticalTwoByThree735.jpg', 'height': 1102, 'width': 735, 'legacy': {}, 'subType': 'verticalTwoByThree735', 'crop_name': 'verticalTwoByThree735'}], 'headline': {'main': 'Florida Child Dies From Flu, the First Young Death Reported in the U.S. This Season', 'kicker': None, 'content_kicker': None, 'print_headline': 'Child in Florida Dies From Flu In 1st Pediatric Death of Season', 'name': None, 'seo': None, 'sub': None}, 'keywords': [{'name': 'subject', 'value': 'Influenza', 'rank': 1, 'major': 'N'}, {'name': 'subject', 'value': 'Deaths (Fatalities)', 'rank': 2, 'major': 'N'}, {'name': 'subject', 'value': 'Vaccination and Immunization', 'rank': 3, 'major': 'N'}, {'name': 'glocations', 'value': 'Florida', 'rank': 4, 'major': 'N'}], 'pub_date': '2018-10-16T15:50:54+0000', 'document_type': 'article', 'news_desk': 'Express', 'section_name': 'Health', 'byline': {'original': 'By Matthew Haag', 'person': [{'firstname': 'Matthew', 'middlename': None, 'lastname': 'Haag', 'qualifier': None, 'title': None, 'role': 'reported', 'organization': '', 'rank': 1}], 'organization': None}, 'type_of_material': 'News', '_id': 'nyt://article/ca1851eb-c6f2-56c5-a849-cef1d9a54234', 'word_count': 555, 'uri': 'nyt://article/ca1851eb-c6f2-56c5-a849-cef1d9a54234'}\n"
     ]
    }
   ],
   "source": [
    "print(articles['response']['docs'][0])"
   ]
  },
  {
   "cell_type": "markdown",
   "metadata": {},
   "source": [
    "The search function returns a dictionary of the first 10 results. To get the next 10, we have to use the page parameter. page = 2 returns the second 10 results, page = 3 the third 10 and so on.\n",
    "\n",
    "If you run the code, you'll see that the returned dictionary is pretty messy. What we’d really like to have is a list of dictionaries, with each dictionary representing an article and each dictionary representing a field of metadata from that article (e.g. headline, date, etc.) We can do this with a custom function:"
   ]
  },
  {
   "cell_type": "code",
   "execution_count": 1,
   "metadata": {},
   "outputs": [],
   "source": [
    "def parse_articles(articles):\n",
    "    '''\n",
    "    This function takes in a response to the NYT api and parses\n",
    "    the articles into a list of dictionaries\n",
    "    '''\n",
    "    # we create a list structure to capture the results\n",
    "    news = []\n",
    "    for doc in articles['response']['docs']:\n",
    "        # we define a dictionary to store all meta data and the text\n",
    "        dic = {}\n",
    "        dic['id'] = doc['_id']  ## obtain the identifier for the document\n",
    "        if doc['abstract'] is not None:\n",
    "            dic['abstract'] = doc['abstract'].encode(\"utf8\")\n",
    "        dic['headline'] = doc['headline']['main'].encode(\"utf8\")\n",
    "        dic['desk'] = doc['news_desk']\n",
    "        dic['date'] = doc['pub_date'][0:10] # cutting time of day.\n",
    "        if doc['snippet'] is not None:\n",
    "            dic['snippet'] = doc['snippet'].encode(\"utf8\")\n",
    "        dic['source'] = doc['source']\n",
    "        dic['url'] = doc['web_url']\n",
    "        # locations\n",
    "        locations = []\n",
    "        for x in range(0,len(doc['keywords'])):\n",
    "            if 'glocations' in doc['keywords'][x]['name']:\n",
    "                locations.append(doc['keywords'][x]['value'])\n",
    "        dic['locations'] = locations\n",
    "        # subject\n",
    "        subjects = []\n",
    "        for x in range(0,len(doc['keywords'])):\n",
    "            if 'subject' in doc['keywords'][x]['name']:\n",
    "                subjects.append(doc['keywords'][x]['value'])\n",
    "        dic['subjects'] = subjects   \n",
    "        news.append(dic)\n",
    "    return(news) "
   ]
  },
  {
   "cell_type": "markdown",
   "metadata": {},
   "source": [
    "We can use the above function *parse_articles* to process the articles retrieved through the API."
   ]
  },
  {
   "cell_type": "code",
   "execution_count": 8,
   "metadata": {},
   "outputs": [
    {
     "name": "stdout",
     "output_type": "stream",
     "text": [
      "10\n"
     ]
    }
   ],
   "source": [
    "news=parse_articles(articles)\n",
    "print(len(news))"
   ]
  },
  {
   "cell_type": "markdown",
   "metadata": {},
   "source": [
    "We use the same approach as for the Google news API to store the news with the meta data in a CSV file, using the pandas framework."
   ]
  },
  {
   "cell_type": "code",
   "execution_count": 9,
   "metadata": {},
   "outputs": [],
   "source": [
    "COLS = ['id', 'abstract', 'headline', 'desk','date',  'snippet', 'source', 'url', 'locations', 'subjects']"
   ]
  },
  {
   "cell_type": "code",
   "execution_count": 10,
   "metadata": {},
   "outputs": [],
   "source": [
    "import os\n",
    "import pandas as pd\n",
    "\n",
    "# We first define a data frame that we name 'all_news_dataframe' \n",
    "# with pandas imported as 'pd' using the columns list that we defined before.\n",
    "# Basically, we tell pandas what data will be stored.\n",
    "\n",
    "all_news_dataframe = pd.DataFrame(columns=COLS)\n",
    "\n",
    "# Iterate over all news items\n",
    "for i, new_entry in enumerate(news, 1):\n",
    "\n",
    "    # We now completed appending all the possible values for this tweet.\n",
    "    # We use the pandas framework imported as 'pd' to create a dataframe from the aggregated data in new_entry\n",
    "    # We need to provide the columns COLS to tell pandas what value belongs to what.\n",
    "    # Note that the data need to be aggregated in the same order as the names in COLS, otherwise values will get mixed up\n",
    "    single_article_dataframe = pd.DataFrame([new_entry], columns=COLS)\n",
    "        \n",
    "    # single_tweet_dataframe now contains the data for a single tweet\n",
    "    # next we add it to the data frame for all tweets 'all_tweets_dataframe'\n",
    "    # check the pandas documentation if you want to know what ignore_index=True does to the data aggregation\n",
    "    all_news_dataframe = all_news_dataframe.append(single_article_dataframe, ignore_index=True)"
   ]
  },
  {
   "cell_type": "code",
   "execution_count": 11,
   "metadata": {},
   "outputs": [
    {
     "name": "stdout",
     "output_type": "stream",
     "text": [
      "(10, 10)\n"
     ]
    }
   ],
   "source": [
    "print(all_news_dataframe.shape)"
   ]
  },
  {
   "cell_type": "code",
   "execution_count": 12,
   "metadata": {},
   "outputs": [
    {
     "name": "stdout",
     "output_type": "stream",
     "text": [
      "{'id': 'nyt://article/ca1851eb-c6f2-56c5-a849-cef1d9a54234', 'abstract': b'A child who had not gotten the flu shot tested positive for influenza B, state health officials said. The flu season has just begun, and flu activity remains low across the country.', 'headline': b'Florida Child Dies From Flu, the First Young Death Reported in the U.S. This Season', 'desk': 'Express', 'date': '2018-10-16', 'snippet': b'A child who had not gotten the flu shot tested positive for influenza B, state health officials said. The flu season has just begun, and flu activity remains low across the country.', 'source': 'The New York Times', 'url': 'https://www.nytimes.com/2018/10/16/health/child-flu-death-florida.html', 'locations': ['Florida'], 'subjects': ['Influenza', 'Deaths (Fatalities)', 'Vaccination and Immunization']}\n"
     ]
    }
   ],
   "source": [
    "print(news[0])"
   ]
  },
  {
   "cell_type": "code",
   "execution_count": 13,
   "metadata": {},
   "outputs": [],
   "source": [
    "# We define a file path to store the results as CSV. Make sure the folder 'googlenews_search_results' exists \n",
    "# or that you specify another path to an existing location. The 'news_results_<query>.csv' file will be created in that location.\n",
    "csvFilePath='nyt_search_results/news_results_'+query+'.csv'\n",
    "\n",
    "# we now open the csvFile for appending our result\n",
    "csvFile = open(csvFilePath,\"w+\")       \n",
    "all_news_dataframe.to_csv(csvFile, columns=COLS, index=False)"
   ]
  },
  {
   "cell_type": "markdown",
   "metadata": {},
   "source": [
    "## End of notebook"
   ]
  },
  {
   "cell_type": "code",
   "execution_count": null,
   "metadata": {},
   "outputs": [],
   "source": []
  }
 ],
 "metadata": {
  "kernelspec": {
   "display_name": "Python 3",
   "language": "python",
   "name": "python3"
  },
  "language_info": {
   "codemirror_mode": {
    "name": "ipython",
    "version": 3
   },
   "file_extension": ".py",
   "mimetype": "text/x-python",
   "name": "python",
   "nbconvert_exporter": "python",
   "pygments_lexer": "ipython3",
   "version": "3.7.4"
  }
 },
 "nbformat": 4,
 "nbformat_minor": 4
}
