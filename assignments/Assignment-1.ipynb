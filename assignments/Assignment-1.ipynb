{
 "cells": [
  {
   "cell_type": "markdown",
   "metadata": {},
   "source": [
    "# Assignment 1: Obtaining statistics for your text collections"
   ]
  },
  {
   "cell_type": "markdown",
   "metadata": {},
   "source": [
    "Copyright, Vrije Universiteit Amsterdam, Faculty of Humanities, CLTL"
   ]
  },
  {
   "cell_type": "markdown",
   "metadata": {},
   "source": [
    "With this assignment you can earn 10 points for your final grade. What do you need to do?\n",
    "\n",
    "<ol>\n",
    "    <li> [*2 points*]: Collect 100 texts from two different media on a topic of your choice but not *vaccination*. You can choose your medium: Google news, tweets, Techcrunch, etc. Make sure you have 50 documents from each medium, e.g. 50 news articles and 50 tweets.\n",
    "    <li> [*6 points*]: Apply spaCy NLP to each text and obtain the following statistics for each corpus:\n",
    "        <ul>\n",
    "            <li> Total number of tokens\n",
    "            <li> Total number of lemmas\n",
    "            <li> Total number of sentences\n",
    "            <li> Total number of nouns, verbs, adjectives, adverbs, etc., covering all parts-of-speeches in the texts\n",
    "            <li> Average token length\n",
    "            <li> Average nr. tokens per sentence\n",
    "            <li> Proportion of nouns, verbs, adjectives, etc. given the total number of words\n",
    "        </ul>\n",
    "     <li> [*1 point*]: Output the statistics in a CSV file such that you can compare the statistics across the two corpora obtained from different media\n",
    "     <li> [*1 point*]: What can you tell about the differences? Is this what you expected and can you explain why?\n",
    "</ol>"
   ]
  },
  {
   "cell_type": "markdown",
   "metadata": {},
   "source": [
    "## 1.1 Collect 100 texts from two media [2 points]"
   ]
  },
  {
   "cell_type": "code",
   "execution_count": 1,
   "metadata": {},
   "outputs": [
    {
     "ename": "SyntaxError",
     "evalue": "invalid syntax (<ipython-input-1-69c2f5eef272>, line 3)",
     "output_type": "error",
     "traceback": [
      "\u001b[0;36m  File \u001b[0;32m\"<ipython-input-1-69c2f5eef272>\"\u001b[0;36m, line \u001b[0;32m3\u001b[0m\n\u001b[0;31m    [YOUR CODE GOES HERE]\u001b[0m\n\u001b[0m             ^\u001b[0m\n\u001b[0;31mSyntaxError\u001b[0m\u001b[0;31m:\u001b[0m invalid syntax\n"
     ]
    }
   ],
   "source": [
    "# Here comes you code to call the API for two media using the query words of your choice\n",
    "\n",
    "[YOUR CODE GOES HERE]\n",
    "\n",
    "# You should store the results in two separate folders so that you can read the text later in this assignment \n",
    "# and in future assignments"
   ]
  },
  {
   "cell_type": "markdown",
   "metadata": {},
   "source": [
    "## 1.2 Apply spaCy to obtain the statistics for each text collection [6 points]"
   ]
  },
  {
   "cell_type": "code",
   "execution_count": 2,
   "metadata": {},
   "outputs": [
    {
     "ename": "SyntaxError",
     "evalue": "invalid syntax (<ipython-input-2-c0fa5fd86b8a>, line 3)",
     "output_type": "error",
     "traceback": [
      "\u001b[0;36m  File \u001b[0;32m\"<ipython-input-2-c0fa5fd86b8a>\"\u001b[0;36m, line \u001b[0;32m3\u001b[0m\n\u001b[0;31m    [YOUR CODE GOES HERE]\u001b[0m\n\u001b[0m             ^\u001b[0m\n\u001b[0;31mSyntaxError\u001b[0m\u001b[0;31m:\u001b[0m invalid syntax\n"
     ]
    }
   ],
   "source": [
    "# You need to load all the files from a subcorpus one by one\n",
    "\n",
    "[YOUR CODE GOES HERE]\n",
    "\n",
    "# You need to process each file using spaCy\n",
    "\n",
    "[YOUR CODE GOES HERE]\n",
    "\n",
    "# You need to iterate over the spaCy result and create the dictionaries and the counts\n",
    "# that are required\n",
    "\n",
    "[YOUR CODE GOES HERE]\n",
    "\n",
    "# make sure you can derive the right counts per document and per collection\n",
    "\n",
    "[YOUR CODE GOES HERE]\n",
    "\n",
    "# You need to do this twice, once for each collection and keep the data"
   ]
  },
  {
   "cell_type": "markdown",
   "metadata": {},
   "source": [
    "## 1.3 Output the statistics to a CSV file for contrastive analysis [1 point]"
   ]
  },
  {
   "cell_type": "code",
   "execution_count": 3,
   "metadata": {},
   "outputs": [
    {
     "ename": "SyntaxError",
     "evalue": "invalid syntax (<ipython-input-3-87dc6decf53b>, line 6)",
     "output_type": "error",
     "traceback": [
      "\u001b[0;36m  File \u001b[0;32m\"<ipython-input-3-87dc6decf53b>\"\u001b[0;36m, line \u001b[0;32m6\u001b[0m\n\u001b[0;31m    [YOUR CODE GOES HERE]\u001b[0m\n\u001b[0m             ^\u001b[0m\n\u001b[0;31mSyntaxError\u001b[0m\u001b[0;31m:\u001b[0m invalid syntax\n"
     ]
    }
   ],
   "source": [
    "# If you managed to store all the data in variables, you now should be able to output these\n",
    "# as Strings and Integers following a CSV format.\n",
    "\n",
    "# make sire you have the counts for each collection in different columns sharing the rows\n",
    "\n",
    "[YOUR CODE GOES HERE]"
   ]
  },
  {
   "cell_type": "markdown",
   "metadata": {},
   "source": [
    "## 1.4 Reflect on the comparison [1 point]"
   ]
  },
  {
   "cell_type": "markdown",
   "metadata": {},
   "source": [
    "[ YOUR ANALYSIS OF THE STATISTICS COMES HERE]"
   ]
  },
  {
   "cell_type": "markdown",
   "metadata": {},
   "source": [
    "## End of this Notebook"
   ]
  },
  {
   "cell_type": "code",
   "execution_count": null,
   "metadata": {},
   "outputs": [],
   "source": []
  }
 ],
 "metadata": {
  "kernelspec": {
   "display_name": "Python 3",
   "language": "python",
   "name": "python3"
  },
  "language_info": {
   "codemirror_mode": {
    "name": "ipython",
    "version": 3
   },
   "file_extension": ".py",
   "mimetype": "text/x-python",
   "name": "python",
   "nbconvert_exporter": "python",
   "pygments_lexer": "ipython3",
   "version": "3.6.5"
  }
 },
 "nbformat": 4,
 "nbformat_minor": 2
}
