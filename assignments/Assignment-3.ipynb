{
 "cells": [
  {
   "cell_type": "code",
   "execution_count": 1,
   "metadata": {},
   "outputs": [],
   "source": [
    "# Assignment 3: Obtaining attributions and perspectives from your text collections"
   ]
  },
  {
   "cell_type": "markdown",
   "metadata": {},
   "source": [
    "Copyright, Vrije Universiteit Amsterdam, Faculty of Humanities, CLTL"
   ]
  },
  {
   "cell_type": "markdown",
   "metadata": {},
   "source": [
    "With this assignment you can earn 20 points for your final grade. What do you need to do?\n",
    "\n",
    "You need to extract a list attribution and perspectives from the two data sets created for Assignment-1 (corpora):\n",
    "\n",
    "<ol>\n",
    "<li> Attribution: expressions that represent the source (person or organization) to which a claim or statement is attributed in the text\n",
    "<li> Perspective: sentiment, judgement, emotion, negation, modality expressed by a source\n",
    "</ol>\n",
    "\n",
    "The output should look as follows:\n",
    "\n",
    "<table style=\"width:100%\">\n",
    "<tr>\n",
    "<th>Attributions</th>\n",
    "<th>DataSet1 positive</th>\n",
    "<th>DataSet1 negative</th>\n",
    "<th>DataSet2 positive</th>\n",
    "<th>DataSet2 negative</th>\n",
    "</tr>\n",
    "<tr> <td>Dr. Schuchat</td>    <td>10</td>   <td>40</td><td>0</td> <td>10</td>   </tr>\n",
    "<tr> <td>WHO</td>    <td>2</td>   <td>13</td><td>20</td> <td>20</td>   </tr>\n",
    "</table>  "
   ]
  },
  {
   "cell_type": "markdown",
   "metadata": {},
   "source": [
    "## Collecting the attributions from the text collections [10points]"
   ]
  },
  {
   "cell_type": "code",
   "execution_count": 8,
   "metadata": {},
   "outputs": [],
   "source": [
    "# Iterate over the text sources to extract the sources to which claims and statements are attributed\n",
    "\n",
    "#[YOUR CODE GOES HERE]"
   ]
  },
  {
   "cell_type": "markdown",
   "metadata": {},
   "source": [
    "Analyse the CSV files that you generated:\n",
    "\n",
    "<ol>\n",
    "<li> Do you spot any differences across the two data sets that you created?\n",
    "<li> Sort the entities by mention frequency per data set:\n",
    "<ol>\n",
    "    <li> take the 50 most frequent items and assess their quality\n",
    "    <li> take 50 items with mid freqeuncy and assess their quality\n",
    "    <li> take 50 items with frequency 1 and assess their quality\n",
    "</ol>\n",
    "<li> Do you see a difference across mention frequencies in terms of qualities and do you see a difference across the data set?\n",
    "<li> Try to explain any differences you observe.\n",
    "</ol>"
   ]
  },
  {
   "cell_type": "markdown",
   "metadata": {},
   "source": [
    "### [YOUR ANALYSIS GOES HERE]"
   ]
  },
  {
   "cell_type": "markdown",
   "metadata": {},
   "source": [
    "You will get 5 points for running the code and 5 points for the analysis."
   ]
  },
  {
   "cell_type": "markdown",
   "metadata": {},
   "source": [
    "## Collecting the perspectives from the text collections [10points]"
   ]
  },
  {
   "cell_type": "code",
   "execution_count": 1,
   "metadata": {},
   "outputs": [],
   "source": [
    "# Iterate over the sentences in which an attribution relation was detected and extract for this sentence the perspective of the source\n",
    "\n",
    "#[YOUR CODE GOES HERE]"
   ]
  },
  {
   "cell_type": "code",
   "execution_count": 2,
   "metadata": {},
   "outputs": [],
   "source": [
    "## Output the list of attributions and the counts of their perspectives across the two data collections"
   ]
  },
  {
   "cell_type": "markdown",
   "metadata": {},
   "source": [
    "Analyse the CSV files that you generated:\n",
    "\n",
    "<ol>\n",
    "<li> Do you spot any differences across the two data sets that you created?\n",
    "<li> Sort the entities by mention frequency per data set:\n",
    "<ol>\n",
    "    <li> take the 50 most frequent items and assess their quality\n",
    "    <li> take 50 items with mid freqeuncy and assess their quality\n",
    "    <li> take 50 items with frequency 1 and assess their quality\n",
    "</ol>\n",
    "<li> Do you see a difference across mention frequencies in terms of qualities and do you see a difference across the data set?\n",
    "<li> Try to explain any differences you observe.\n",
    "</ol>"
   ]
  },
  {
   "cell_type": "markdown",
   "metadata": {},
   "source": [
    "### [YOUR ANALYSIS GOES HERE]"
   ]
  },
  {
   "cell_type": "markdown",
   "metadata": {},
   "source": [
    "You will get 5 points for running the code and 5 points for the analysis."
   ]
  },
  {
   "cell_type": "markdown",
   "metadata": {},
   "source": [
    "## End of this Notebook"
   ]
  },
  {
   "cell_type": "code",
   "execution_count": null,
   "metadata": {},
   "outputs": [],
   "source": []
  }
 ],
 "metadata": {
  "kernelspec": {
   "display_name": "Python 3",
   "language": "python",
   "name": "python3"
  },
  "language_info": {
   "codemirror_mode": {
    "name": "ipython",
    "version": 3
   },
   "file_extension": ".py",
   "mimetype": "text/x-python",
   "name": "python",
   "nbconvert_exporter": "python",
   "pygments_lexer": "ipython3",
   "version": "3.7.4"
  }
 },
 "nbformat": 4,
 "nbformat_minor": 4
}
