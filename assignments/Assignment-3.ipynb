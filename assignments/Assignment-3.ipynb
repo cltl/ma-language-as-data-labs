{
 "cells": [
  {
   "cell_type": "code",
   "execution_count": 1,
   "metadata": {},
   "outputs": [],
   "source": [
    "# Assignment 3: Obtaining attributions and perspectives from your text collections"
   ]
  },
  {
   "cell_type": "markdown",
   "metadata": {},
   "source": [
    "Copyright, Vrije Universiteit Amsterdam, Faculty of Humanities, CLTL"
   ]
  },
  {
   "cell_type": "markdown",
   "metadata": {},
   "source": [
    "With this assignment you can earn 20 points for your final grade. What do you need to do?\n",
    "\n",
    "You need to extract a list attribution and perspectives from the two data sets created for Assignment-1 (corpora):\n",
    "\n",
    "<ol>\n",
    "<li> Attribution: expressions that represent the source (person or organization) to which a claim or statement is attributed in the text\n",
    "<li> Perspective: sentiment expressed by a source according to VADER\n",
    "</ol>\n",
    "\n",
    "The output should look as follows:\n",
    "\n",
    "<table style=\"width:100%\">\n",
    "<tr>\n",
    "    <th>Attributions</th>\n",
    "    <th>DataSet1 total attributions</th>\n",
    "    <th>DataSet1 positive</th>\n",
    "    <th>DataSet1 negative</th>\n",
    "    <th>DataSet2 total attributions</th>\n",
    "    <th>DataSet2 positive</th>\n",
    "    <th>DataSet2 negative</th>\n",
    "</tr>\n",
    "    <tr> <td>Dr. Schuchat</td> <td>100</td>   <td>10</td>   <td>40</td><td>15</td><td>0</td> <td>10</td>   </tr>\n",
    "<tr> <td>WHO</td>  <td>50</td>  <td>2</td>   <td>13</td> <td>60</td><td>20</td> <td>20</td>   </tr>\n",
    "</table>  "
   ]
  },
  {
   "cell_type": "markdown",
   "metadata": {},
   "source": [
    "When collecting sources, try to find entities, but also pronouns and nouns phrases that are not entities but refer to sources. Furthermore, try to adapt the selection of the predicates such that you get a more appropriate result with opinions. You may use the list of source-introducing-frames but also adapt it (make a selection) or use another method (e.g. lexical). Whatever measures you took, explain them clearly in the notebook."
   ]
  },
  {
   "cell_type": "markdown",
   "metadata": {},
   "source": [
    "For the sentiment, take to highest score from VADER for an attribution. Note that we do not represent neutral content but this follows from the difference between the total number of attributions and the sum of the negative and positive attributions."
   ]
  },
  {
   "cell_type": "markdown",
   "metadata": {},
   "source": [
    "#### What to submit \n",
    "\n",
    "A zip file that includes your notebook, the PDF conversion of the notebook and the two CSV files that you need to produce."
   ]
  },
  {
   "cell_type": "markdown",
   "metadata": {},
   "source": [
    "## Collecting the attributions from the text collections [20points]"
   ]
  },
  {
   "cell_type": "code",
   "execution_count": 1,
   "metadata": {},
   "outputs": [],
   "source": [
    "# Iterate over the text sources to extract the sources to which claims and statements are attributed\n",
    "\n",
    "#[YOUR CODE GOES HERE]"
   ]
  },
  {
   "cell_type": "markdown",
   "metadata": {},
   "source": [
    "Analyse the CSV files that you generated:\n",
    "\n",
    "<ol>\n",
    "<li> Do you spot any differences across the two data sets that you created?\n",
    "<li> Sort the source by attribution frequency per data set\n",
    "<li> Can you see which sources are more or less positive?\n",
    "<li> Try to explain any differences you observe.\n",
    "</ol>"
   ]
  },
  {
   "cell_type": "markdown",
   "metadata": {},
   "source": [
    "### [YOUR ANALYSIS GOES HERE]"
   ]
  },
  {
   "cell_type": "markdown",
   "metadata": {},
   "source": [
    "You will get 6 points for running the code and 14 points for the analysis."
   ]
  },
  {
   "cell_type": "markdown",
   "metadata": {},
   "source": [
    "## End of this Notebook"
   ]
  },
  {
   "cell_type": "code",
   "execution_count": null,
   "metadata": {},
   "outputs": [],
   "source": []
  }
 ],
 "metadata": {
  "kernelspec": {
   "display_name": "Python 3",
   "language": "python",
   "name": "python3"
  },
  "language_info": {
   "codemirror_mode": {
    "name": "ipython",
    "version": 3
   },
   "file_extension": ".py",
   "mimetype": "text/x-python",
   "name": "python",
   "nbconvert_exporter": "python",
   "pygments_lexer": "ipython3",
   "version": "3.7.4"
  }
 },
 "nbformat": 4,
 "nbformat_minor": 4
}
