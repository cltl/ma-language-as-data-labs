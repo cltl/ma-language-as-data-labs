{
 "cells": [
  {
   "cell_type": "markdown",
   "metadata": {},
   "source": [
    "# Assignment 2: Obtaining content from your text collections"
   ]
  },
  {
   "cell_type": "markdown",
   "metadata": {},
   "source": [
    "Copyright, Vrije Universiteit Amsterdam, Faculty of Humanities, CLTL"
   ]
  },
  {
   "cell_type": "markdown",
   "metadata": {},
   "source": [
    "With this assignment you can earn 20 points for your final grade. What do you need to do?\n",
    "\n",
    "You need to extract a list entities and events with statistics from the two data sets created for Assignment-1 (corpora):\n",
    "\n",
    "<ol>\n",
    "<li> entities, with their dominant type and for each entity the frequency of mentions\n",
    "<li> events, with the dominant frames (possibly none) and for each event its frequency of mentions\n",
    "</ol>\n",
    "\n",
    "For the entities the output should look as a table with in each row:\n",
    "\n",
    "<table style=\"width:100%\">\n",
    "<tr>\n",
    "<th>Entities</th>\n",
    "<th>DataSet1 mentions</th>\n",
    "<th>DataSet1  dominant type</th>\n",
    "<th>DataSet2 mentions</th>\n",
    "<th>DataSet2  dominant type</th>\n",
    "</tr>\n",
    "<tr> <td>dbpedia:MMR_vaccine</td><td>5</td><td>MISC</td><td>10</td> <td>MISC</td>   </tr>\n",
    "<tr> <td>Dr. Schuchat</td>    <td>2</td>   <td>PERS</td><td>0</td> <td>ORG</td>   </tr>\n",
    "</table>  \n",
    "\n",
    "For the events the output should look as a table with in each row:\n",
    "\n",
    "<table style=\"width:100%\">\n",
    "<tr>\n",
    "<th>Events</th>\n",
    "<th>DataSet1 mentions</th>\n",
    "<th>DataSet1  dominant frame</th>\n",
    "<th>DataSet2 mentions</th>\n",
    "<th>DataSet2 dominant frame</th>\n",
    "</tr>\n",
    "    <tr> <td>inject</td><td>5</td><td>fn:Ingest_Substance</td><td>10</td><td>fn:Ingest_Substance</td></tr>\n",
    "    <tr> <td>sick</td><td>2</td><td>fn:Medical_Conditions</td><td>0</td><td>fn:Biological_Urge</td></tr>\n",
    "    <tr> <td>vaccinate</td><td>2</td><td>none</td><td>3</td> </tr>\n",
    "</table>  \n"
   ]
  },
  {
   "cell_type": "markdown",
   "metadata": {},
   "source": [
    "Submit a zip file that includes your notebook, the PDF conversion of the notebook and the two CSV files that you need to produce."
   ]
  },
  {
   "cell_type": "markdown",
   "metadata": {},
   "source": [
    "# Collecting the entity data [10 points]"
   ]
  },
  {
   "cell_type": "code",
   "execution_count": 8,
   "metadata": {},
   "outputs": [],
   "source": [
    "## Collecting named entity mentions\n",
    "\n",
    "# [YOUR CODE GOES HERE]"
   ]
  },
  {
   "cell_type": "code",
   "execution_count": 9,
   "metadata": {},
   "outputs": [],
   "source": [
    "## Getting a dictionary of entities, determine the dominant type and count their mentions\n",
    "\n",
    "# [YOUR CODE GOES HERE]"
   ]
  },
  {
   "cell_type": "code",
   "execution_count": 10,
   "metadata": {},
   "outputs": [],
   "source": [
    "## Outputting a CSV file with the list of entities, their type and their counts\n",
    "\n",
    "# [YOUR CODE GOES HERE]"
   ]
  },
  {
   "cell_type": "markdown",
   "metadata": {},
   "source": [
    "# Collecting the event data [10 points]"
   ]
  },
  {
   "cell_type": "code",
   "execution_count": 11,
   "metadata": {},
   "outputs": [],
   "source": [
    "## Collecting events and their frames\n",
    "\n",
    "# [YOUR CODE GOES HERE]"
   ]
  },
  {
   "cell_type": "code",
   "execution_count": 12,
   "metadata": {},
   "outputs": [],
   "source": [
    "## Getting a dictionary of events, determine the dominant frame and count the mentions\n",
    "\n",
    "# [YOUR CODE GOES HERE]"
   ]
  },
  {
   "cell_type": "code",
   "execution_count": 13,
   "metadata": {},
   "outputs": [],
   "source": [
    "## Outputting a CSV file with the list of events, their frame and  counts\n",
    "\n",
    "# [YOUR CODE GOES HERE]"
   ]
  },
  {
   "cell_type": "markdown",
   "metadata": {},
   "source": [
    "## End of this Notebook"
   ]
  },
  {
   "cell_type": "code",
   "execution_count": null,
   "metadata": {},
   "outputs": [],
   "source": []
  }
 ],
 "metadata": {
  "kernelspec": {
   "display_name": "Python 3",
   "language": "python",
   "name": "python3"
  },
  "language_info": {
   "codemirror_mode": {
    "name": "ipython",
    "version": 3
   },
   "file_extension": ".py",
   "mimetype": "text/x-python",
   "name": "python",
   "nbconvert_exporter": "python",
   "pygments_lexer": "ipython3",
   "version": "3.6.5"
  }
 },
 "nbformat": 4,
 "nbformat_minor": 2
}
