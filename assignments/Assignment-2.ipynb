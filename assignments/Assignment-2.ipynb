{
 "cells": [
  {
   "cell_type": "markdown",
   "metadata": {},
   "source": [
    "# Assignment 2: Obtaining content from your text collections"
   ]
  },
  {
   "cell_type": "markdown",
   "metadata": {},
   "source": [
    "*Copyright, Vrije Universiteit Amsterdam, Faculty of Humanities, CLTL*"
   ]
  },
  {
   "cell_type": "markdown",
   "metadata": {},
   "source": [
    "With this assignment you can earn 20 points for your final grade. What do you need to do?\n",
    "\n",
    "#### Assignment overview\n",
    "\n",
    "You need to extract a list entities and events with statistics from the two data sets (corpora) created for Assignment-1 :\n",
    "\n",
    "<ol>\n",
    "<li> entities, with their dominant type and for each entity the frequency of mentions\n",
    "<li> events, with the dominant frames (possibly none) and for each event its frequency of mentions\n",
    "</ol>\n",
    "\n",
    "For the entities the output should look as a table with in each row:\n",
    "\n",
    "<table style=\"width:100%\">\n",
    "<tr>\n",
    "<th>Entities</th>\n",
    "<th>DataSet1 mentions</th>\n",
    "<th>DataSet1  dominant type</th>\n",
    "<th>DataSet2 mentions</th>\n",
    "<th>DataSet2  dominant type</th>\n",
    "</tr>\n",
    "<tr> <td>MMR_vaccine</td><td>5</td><td>MISC</td><td>10</td> <td>MISC</td>   </tr>\n",
    "<tr> <td>Dr. Schuchat</td>    <td>2</td>   <td>PER</td><td>0</td> <td>ORG</td>   </tr>\n",
    "</table>  \n",
    "\n",
    "Entities should be treated as unique instances. They can be represented as unique URIs from DBPedia or if NIL, by their unique string or token. This means that we can expect different named entity expressions to be linked to the same URI.\n",
    "\n",
    "For the events the output should look as a table with in each row:\n",
    "\n",
    "<table style=\"width:100%\">\n",
    "<tr>\n",
    "<th>Events</th>\n",
    "<th>DataSet1 mentions</th>\n",
    "<th>DataSet1  dominant frame</th>\n",
    "<th>DataSet2 mentions</th>\n",
    "<th>DataSet2 dominant frame</th>\n",
    "</tr>\n",
    "    <tr> <td>inject</td><td>5</td><td>fn:Ingest_Substance</td><td>10</td><td>fn:Ingest_Substance</td></tr>\n",
    "    <tr> <td>sick</td><td>2</td><td>fn:Medical_Conditions</td><td>1</td><td>fn:Biological_Urge</td></tr>\n",
    "    <tr> <td>vaccinate</td><td>2</td><td>none</td><td>3</td> <td>none</td></tr>\n",
    "</table>\n",
    "\n",
    "Events do not have URIs, so in this case each lemma is a unique event. If you built the data on the dominant frames for all your data, you cannot differentiate between the dominant frames for your two data sets. If you build different dominant frame files per data set, these may reflect differences acrss the data sets for the same lemma.\n"
   ]
  },
  {
   "cell_type": "markdown",
   "metadata": {},
   "source": [
    "#### What to submit \n",
    "\n",
    "A zip file that includes your notebook, the PDF conversion of the notebook and the two CSV files that you need to produce."
   ]
  },
  {
   "cell_type": "markdown",
   "metadata": {},
   "source": [
    "# Part I: Collecting the entity data [10 points]"
   ]
  },
  {
   "cell_type": "code",
   "execution_count": 1,
   "metadata": {},
   "outputs": [],
   "source": [
    "## Collecting named entity mentions\n",
    "\n",
    "# [YOUR CODE GOES HERE]"
   ]
  },
  {
   "cell_type": "code",
   "execution_count": 2,
   "metadata": {},
   "outputs": [],
   "source": [
    "## Getting a dictionary of entities, determining the dominant type and counting their mentions\n",
    "\n",
    "# [YOUR CODE GOES HERE]"
   ]
  },
  {
   "cell_type": "code",
   "execution_count": 3,
   "metadata": {},
   "outputs": [],
   "source": [
    "## Outputting a CSV file with the list of entities, their type and their counts\n",
    "\n",
    "# [YOUR CODE GOES HERE]"
   ]
  },
  {
   "cell_type": "markdown",
   "metadata": {},
   "source": [
    "**Analyse the CSV files that you generated:**\n",
    "\n",
    "<ol>\n",
    "<li> Do you spot any differences across the two data sets that you created?\n",
    "<li> Sort the entities by mention frequency per data set:\n",
    "<ol>\n",
    "    <li> take the 50 most frequent items and assess their quality\n",
    "    <li> take 50 items with mid freqeuncy and assess their quality\n",
    "    <li> take 50 items with frequency 1 and assess their quality\n",
    "</ol>\n",
    "<li> Do you see a difference across mention frequencies in terms of qualities and do you see a difference across the data set?\n",
    "<li> Try to explain any differences you observe.\n",
    "</ol>"
   ]
  },
  {
   "cell_type": "code",
   "execution_count": 4,
   "metadata": {},
   "outputs": [],
   "source": [
    "### [YOUR ANALYSIS GOES HERE]"
   ]
  },
  {
   "cell_type": "markdown",
   "metadata": {},
   "source": [
    "*You will get 4 points for running the code and 6 points for the analysis.*"
   ]
  },
  {
   "cell_type": "markdown",
   "metadata": {},
   "source": [
    "# Part II: Collecting the event data [10 points]"
   ]
  },
  {
   "cell_type": "code",
   "execution_count": 5,
   "metadata": {},
   "outputs": [],
   "source": [
    "## Collecting events and their frames\n",
    "\n",
    "# [YOUR CODE GOES HERE]"
   ]
  },
  {
   "cell_type": "code",
   "execution_count": 6,
   "metadata": {},
   "outputs": [],
   "source": [
    "## Getting a dictionary of events, determining the dominant frame and counting the mentions\n",
    "\n",
    "# [YOUR CODE GOES HERE]"
   ]
  },
  {
   "cell_type": "code",
   "execution_count": 7,
   "metadata": {},
   "outputs": [],
   "source": [
    "## Outputting a CSV file with the list of events, their frame and counts\n",
    "\n",
    "# [YOUR CODE GOES HERE]"
   ]
  },
  {
   "cell_type": "markdown",
   "metadata": {},
   "source": [
    "**Analyse the CSV files that you generated:**\n",
    "\n",
    "<ol>\n",
    "<li> Do you spot any differences across the two data sets that you created?\n",
    "<li> Sort the entities by mention frequency per data set:\n",
    "<ol>\n",
    "    <li> take the 50 most frequent items and assess their quality\n",
    "    <li> take 50 items with mid freqeuncy and assess their quality\n",
    "    <li> take 50 items with frequency 1 and assess their quality\n",
    "</ol>\n",
    "<li> Do you see a difference across mention frequencies in terms of qualities and do you see a difference across the data set?\n",
    "<li> Try to explain any differences you observe.\n",
    "</ol>"
   ]
  },
  {
   "cell_type": "code",
   "execution_count": 8,
   "metadata": {},
   "outputs": [],
   "source": [
    "### [YOUR ANALYSIS GOES HERE]"
   ]
  },
  {
   "cell_type": "markdown",
   "metadata": {},
   "source": [
    "*You will get 4 points for running the code and 6 points for the analysis.*"
   ]
  },
  {
   "cell_type": "markdown",
   "metadata": {},
   "source": [
    "## End of this Notebook"
   ]
  },
  {
   "cell_type": "code",
   "execution_count": null,
   "metadata": {},
   "outputs": [],
   "source": []
  }
 ],
 "metadata": {
  "kernelspec": {
   "display_name": "Python 3",
   "language": "python",
   "name": "python3"
  },
  "language_info": {
   "codemirror_mode": {
    "name": "ipython",
    "version": 3
   },
   "file_extension": ".py",
   "mimetype": "text/x-python",
   "name": "python",
   "nbconvert_exporter": "python",
   "pygments_lexer": "ipython3",
   "version": "3.7.4"
  }
 },
 "nbformat": 4,
 "nbformat_minor": 4
}
