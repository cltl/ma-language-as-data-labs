{
 "cells": [
  {
   "cell_type": "markdown",
   "metadata": {},
   "source": [
    "# Lab3.1 Introduction: entities and identities"
   ]
  },
  {
   "cell_type": "markdown",
   "metadata": {},
   "source": [
    "Copyright: Vrije Universiteit Amsterdam, Faculty of Humanities, CLTL"
   ]
  },
  {
   "cell_type": "markdown",
   "metadata": {},
   "source": [
    "In Lab3, you are going to extract content from the text, specifically you are going to apply software that finds entities and link them to identities in the database [DBPedia][http://dbpedia.org].\n",
    "\n",
    "You find various notebooks in this lab. The ones labelled with EXTRA are not necessary for the assignments. These are for students who want to learn more. The other notebooks 3.1, 3.2, 3.3 and 3.4 are essential for the assignment:\n",
    "\n",
    "* *Lab3.1-introduction.ipynb*: this notebook explaining the structure of lab3\n",
    "* *Lab3.2-Entity-linking-introduction.ipynb*: explaining the basics of the entity linking\n",
    "* *Lab3.3-Entity-linking-tools.ipynb*: introducing two entity linkng tools\n",
    "* *Lab3.4-Linking-entities-from-spacy.ipynb*: showing how the entity linking tools can be applied to entities coming from spaCy\n",
    "\n",
    "Extra:\n",
    "\n",
    "* *Lab3-EXTRA-Supervised NERC system.ipynb*: showing the basics of training an SVM with vectors and using this to train a NERC system with words and PoS and with embeddings\n",
    "* *Lab3-EXTRA-Entity-linking-evaluation.ipynb*: explaining how to test and evaluate an entity linkin system\n",
    "* *Lab3-EXTRA-NERC_CRF.ipynb*: a blog that explains how to build a CRF NERC from IOB annotated data\n",
    "* *Lab3-EXTRA-NERC-biLSTM-CRF.ipynb*: a blog that explains how to build a NERC classifier using a biLSTM with a CRF on top from IOB annotated data\n",
    "\n",
    "Note that for the assignment, you are going to use the entities from spaCy and not going to build your own NERC system."
   ]
  },
  {
   "cell_type": "markdown",
   "metadata": {},
   "source": [
    "## End of this notebook"
   ]
  },
  {
   "cell_type": "code",
   "execution_count": null,
   "metadata": {},
   "outputs": [],
   "source": []
  }
 ],
 "metadata": {
  "kernelspec": {
   "display_name": "Python 3",
   "language": "python",
   "name": "python3"
  },
  "language_info": {
   "codemirror_mode": {
    "name": "ipython",
    "version": 3
   },
   "file_extension": ".py",
   "mimetype": "text/x-python",
   "name": "python",
   "nbconvert_exporter": "python",
   "pygments_lexer": "ipython3",
   "version": "3.7.4"
  }
 },
 "nbformat": 4,
 "nbformat_minor": 4
}
