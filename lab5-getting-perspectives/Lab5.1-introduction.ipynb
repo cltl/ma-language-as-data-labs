{
 "cells": [
  {
   "cell_type": "markdown",
   "metadata": {},
   "source": [
    "# Lab5.1 - Perspectives Introduction"
   ]
  },
  {
   "cell_type": "markdown",
   "metadata": {},
   "source": [
    "Copyright, Vrije Universiteit Amsterdam, Faculty of Humanities, CLTL"
   ]
  },
  {
   "cell_type": "markdown",
   "metadata": {},
   "source": [
    "In LAB5, we are going a few simple techniques to extract attribution relations and determine the sentiment of the content:\n",
    "\n",
    "<ol>\n",
    "    <li>Detect source, cue and content phrases\n",
    "    <li>Filter for the type of predicate using framenet to get the so-called source-introducing-predicates (sip)\n",
    "    <li>Filter for the source to be a person or organisation\n",
    "    <li>Use the VADER tool to determine the polarity of the content phrase\n",
    "</ol>\n",
    "\n",
    "There are two notebooks to demonstrate the basic skills:\n",
    "\n",
    "<ol>\n",
    "    <li>Lab5.2-AttributionExtraction.ipynb\n",
    "    <li>Lab5.3-Sentiment-analysis-with-VADER.ipynb\n",
    "</ol>\n",
    "\n",
    "In the third assignment you need to combine these skills to obtain attributions and sentiment for your content."
   ]
  },
  {
   "cell_type": "markdown",
   "metadata": {},
   "source": [
    "## End of this notebook"
   ]
  }
 ],
 "metadata": {
  "kernelspec": {
   "display_name": "Python 3",
   "language": "python",
   "name": "python3"
  },
  "language_info": {
   "codemirror_mode": {
    "name": "ipython",
    "version": 3
   },
   "file_extension": ".py",
   "mimetype": "text/x-python",
   "name": "python",
   "nbconvert_exporter": "python",
   "pygments_lexer": "ipython3",
   "version": "3.7.4"
  }
 },
 "nbformat": 4,
 "nbformat_minor": 4
}
